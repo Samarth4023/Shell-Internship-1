{
 "cells": [
  {
   "cell_type": "code",
   "execution_count": 1,
   "id": "97f1545b",
   "metadata": {
    "_cell_guid": "b1076dfc-b9ad-4769-8c92-a6c4dae69d19",
    "_uuid": "8f2839f25d086af736a60e9eeb907d3b93b6e0e5",
    "papermill": {
     "duration": 1.353742,
     "end_time": "2025-01-24T16:01:55.684299",
     "exception": false,
     "start_time": "2025-01-24T16:01:54.330557",
     "status": "completed"
    },
    "tags": []
   },
   "outputs": [],
   "source": [
    "import numpy as np\n",
    "import pandas as pd"
   ]
  },
  {
   "cell_type": "code",
   "execution_count": 2,
   "id": "76de643c",
   "metadata": {
    "papermill": {
     "duration": 0.043487,
     "end_time": "2025-01-24T16:01:55.737715",
     "exception": false,
     "start_time": "2025-01-24T16:01:55.694228",
     "status": "completed"
    },
    "tags": []
   },
   "outputs": [],
   "source": [
    "fertilizer = pd.read_csv('Datasets/Fertilizer Prediction.csv')"
   ]
  },
  {
   "cell_type": "code",
   "execution_count": 3,
   "id": "58cdd65f",
   "metadata": {
    "papermill": {
     "duration": 0.043973,
     "end_time": "2025-01-24T16:01:55.792157",
     "exception": false,
     "start_time": "2025-01-24T16:01:55.748184",
     "status": "completed"
    },
    "tags": []
   },
   "outputs": [
    {
     "data": {
      "text/html": [
       "<div>\n",
       "<style scoped>\n",
       "    .dataframe tbody tr th:only-of-type {\n",
       "        vertical-align: middle;\n",
       "    }\n",
       "\n",
       "    .dataframe tbody tr th {\n",
       "        vertical-align: top;\n",
       "    }\n",
       "\n",
       "    .dataframe thead th {\n",
       "        text-align: right;\n",
       "    }\n",
       "</style>\n",
       "<table border=\"1\" class=\"dataframe\">\n",
       "  <thead>\n",
       "    <tr style=\"text-align: right;\">\n",
       "      <th></th>\n",
       "      <th>Temparature</th>\n",
       "      <th>Humidity</th>\n",
       "      <th>Moisture</th>\n",
       "      <th>Soil Type</th>\n",
       "      <th>Crop Type</th>\n",
       "      <th>Nitrogen</th>\n",
       "      <th>Potassium</th>\n",
       "      <th>Phosphorous</th>\n",
       "      <th>Fertilizer Name</th>\n",
       "    </tr>\n",
       "  </thead>\n",
       "  <tbody>\n",
       "    <tr>\n",
       "      <th>0</th>\n",
       "      <td>26</td>\n",
       "      <td>52</td>\n",
       "      <td>38</td>\n",
       "      <td>Sandy</td>\n",
       "      <td>Maize</td>\n",
       "      <td>37</td>\n",
       "      <td>0</td>\n",
       "      <td>0</td>\n",
       "      <td>Urea</td>\n",
       "    </tr>\n",
       "    <tr>\n",
       "      <th>1</th>\n",
       "      <td>29</td>\n",
       "      <td>52</td>\n",
       "      <td>45</td>\n",
       "      <td>Loamy</td>\n",
       "      <td>Sugarcane</td>\n",
       "      <td>12</td>\n",
       "      <td>0</td>\n",
       "      <td>36</td>\n",
       "      <td>DAP</td>\n",
       "    </tr>\n",
       "    <tr>\n",
       "      <th>2</th>\n",
       "      <td>34</td>\n",
       "      <td>65</td>\n",
       "      <td>62</td>\n",
       "      <td>Black</td>\n",
       "      <td>Cotton</td>\n",
       "      <td>7</td>\n",
       "      <td>9</td>\n",
       "      <td>30</td>\n",
       "      <td>14-35-14</td>\n",
       "    </tr>\n",
       "    <tr>\n",
       "      <th>3</th>\n",
       "      <td>32</td>\n",
       "      <td>62</td>\n",
       "      <td>34</td>\n",
       "      <td>Red</td>\n",
       "      <td>Tobacco</td>\n",
       "      <td>22</td>\n",
       "      <td>0</td>\n",
       "      <td>20</td>\n",
       "      <td>28-28</td>\n",
       "    </tr>\n",
       "    <tr>\n",
       "      <th>4</th>\n",
       "      <td>28</td>\n",
       "      <td>54</td>\n",
       "      <td>46</td>\n",
       "      <td>Clayey</td>\n",
       "      <td>Paddy</td>\n",
       "      <td>35</td>\n",
       "      <td>0</td>\n",
       "      <td>0</td>\n",
       "      <td>Urea</td>\n",
       "    </tr>\n",
       "  </tbody>\n",
       "</table>\n",
       "</div>"
      ],
      "text/plain": [
       "   Temparature  Humidity   Moisture Soil Type  Crop Type  Nitrogen  Potassium  \\\n",
       "0           26         52        38     Sandy      Maize        37          0   \n",
       "1           29         52        45     Loamy  Sugarcane        12          0   \n",
       "2           34         65        62     Black     Cotton         7          9   \n",
       "3           32         62        34       Red    Tobacco        22          0   \n",
       "4           28         54        46    Clayey      Paddy        35          0   \n",
       "\n",
       "   Phosphorous Fertilizer Name  \n",
       "0            0            Urea  \n",
       "1           36             DAP  \n",
       "2           30        14-35-14  \n",
       "3           20           28-28  \n",
       "4            0            Urea  "
      ]
     },
     "execution_count": 3,
     "metadata": {},
     "output_type": "execute_result"
    }
   ],
   "source": [
    "fertilizer.head()"
   ]
  },
  {
   "cell_type": "markdown",
   "id": "8bbd7496",
   "metadata": {
    "papermill": {
     "duration": 0.009646,
     "end_time": "2025-01-24T16:01:55.811229",
     "exception": false,
     "start_time": "2025-01-24T16:01:55.801583",
     "status": "completed"
    },
    "tags": []
   },
   "source": [
    "# Encoding the Categorical Datas."
   ]
  },
  {
   "cell_type": "code",
   "execution_count": 4,
   "id": "69273e14",
   "metadata": {
    "papermill": {
     "duration": 1.942651,
     "end_time": "2025-01-24T16:01:57.763290",
     "exception": false,
     "start_time": "2025-01-24T16:01:55.820639",
     "status": "completed"
    },
    "tags": []
   },
   "outputs": [],
   "source": [
    "from sklearn.preprocessing import LabelEncoder\n",
    "\n",
    "encoder = LabelEncoder()\n",
    "\n",
    "columns_to_encode = ['Soil Type', 'Crop Type']\n",
    "\n",
    "fertilizer[columns_to_encode] = fertilizer[columns_to_encode].apply(encoder.fit_transform)"
   ]
  },
  {
   "cell_type": "code",
   "execution_count": 5,
   "id": "d6d277b6",
   "metadata": {
    "papermill": {
     "duration": 0.024792,
     "end_time": "2025-01-24T16:01:57.797372",
     "exception": false,
     "start_time": "2025-01-24T16:01:57.772580",
     "status": "completed"
    },
    "tags": []
   },
   "outputs": [
    {
     "data": {
      "text/html": [
       "<div>\n",
       "<style scoped>\n",
       "    .dataframe tbody tr th:only-of-type {\n",
       "        vertical-align: middle;\n",
       "    }\n",
       "\n",
       "    .dataframe tbody tr th {\n",
       "        vertical-align: top;\n",
       "    }\n",
       "\n",
       "    .dataframe thead th {\n",
       "        text-align: right;\n",
       "    }\n",
       "</style>\n",
       "<table border=\"1\" class=\"dataframe\">\n",
       "  <thead>\n",
       "    <tr style=\"text-align: right;\">\n",
       "      <th></th>\n",
       "      <th>Temparature</th>\n",
       "      <th>Humidity</th>\n",
       "      <th>Moisture</th>\n",
       "      <th>Soil Type</th>\n",
       "      <th>Crop Type</th>\n",
       "      <th>Nitrogen</th>\n",
       "      <th>Potassium</th>\n",
       "      <th>Phosphorous</th>\n",
       "      <th>Fertilizer Name</th>\n",
       "    </tr>\n",
       "  </thead>\n",
       "  <tbody>\n",
       "    <tr>\n",
       "      <th>0</th>\n",
       "      <td>26</td>\n",
       "      <td>52</td>\n",
       "      <td>38</td>\n",
       "      <td>4</td>\n",
       "      <td>3</td>\n",
       "      <td>37</td>\n",
       "      <td>0</td>\n",
       "      <td>0</td>\n",
       "      <td>Urea</td>\n",
       "    </tr>\n",
       "    <tr>\n",
       "      <th>1</th>\n",
       "      <td>29</td>\n",
       "      <td>52</td>\n",
       "      <td>45</td>\n",
       "      <td>2</td>\n",
       "      <td>8</td>\n",
       "      <td>12</td>\n",
       "      <td>0</td>\n",
       "      <td>36</td>\n",
       "      <td>DAP</td>\n",
       "    </tr>\n",
       "    <tr>\n",
       "      <th>2</th>\n",
       "      <td>34</td>\n",
       "      <td>65</td>\n",
       "      <td>62</td>\n",
       "      <td>0</td>\n",
       "      <td>1</td>\n",
       "      <td>7</td>\n",
       "      <td>9</td>\n",
       "      <td>30</td>\n",
       "      <td>14-35-14</td>\n",
       "    </tr>\n",
       "    <tr>\n",
       "      <th>3</th>\n",
       "      <td>32</td>\n",
       "      <td>62</td>\n",
       "      <td>34</td>\n",
       "      <td>3</td>\n",
       "      <td>9</td>\n",
       "      <td>22</td>\n",
       "      <td>0</td>\n",
       "      <td>20</td>\n",
       "      <td>28-28</td>\n",
       "    </tr>\n",
       "    <tr>\n",
       "      <th>4</th>\n",
       "      <td>28</td>\n",
       "      <td>54</td>\n",
       "      <td>46</td>\n",
       "      <td>1</td>\n",
       "      <td>6</td>\n",
       "      <td>35</td>\n",
       "      <td>0</td>\n",
       "      <td>0</td>\n",
       "      <td>Urea</td>\n",
       "    </tr>\n",
       "  </tbody>\n",
       "</table>\n",
       "</div>"
      ],
      "text/plain": [
       "   Temparature  Humidity   Moisture  Soil Type  Crop Type  Nitrogen  \\\n",
       "0           26         52        38          4          3        37   \n",
       "1           29         52        45          2          8        12   \n",
       "2           34         65        62          0          1         7   \n",
       "3           32         62        34          3          9        22   \n",
       "4           28         54        46          1          6        35   \n",
       "\n",
       "   Potassium  Phosphorous Fertilizer Name  \n",
       "0          0            0            Urea  \n",
       "1          0           36             DAP  \n",
       "2          9           30        14-35-14  \n",
       "3          0           20           28-28  \n",
       "4          0            0            Urea  "
      ]
     },
     "execution_count": 5,
     "metadata": {},
     "output_type": "execute_result"
    }
   ],
   "source": [
    "fertilizer.head()"
   ]
  },
  {
   "cell_type": "code",
   "execution_count": 6,
   "id": "e3616690",
   "metadata": {
    "papermill": {
     "duration": 0.020064,
     "end_time": "2025-01-24T16:01:57.827289",
     "exception": false,
     "start_time": "2025-01-24T16:01:57.807225",
     "status": "completed"
    },
    "tags": []
   },
   "outputs": [],
   "source": [
    "X = fertilizer.drop('Fertilizer Name', axis=1)\n",
    "y = fertilizer['Fertilizer Name']"
   ]
  },
  {
   "cell_type": "code",
   "execution_count": 7,
   "id": "c5829b46",
   "metadata": {
    "papermill": {
     "duration": 0.023622,
     "end_time": "2025-01-24T16:01:57.861319",
     "exception": false,
     "start_time": "2025-01-24T16:01:57.837697",
     "status": "completed"
    },
    "tags": []
   },
   "outputs": [
    {
     "data": {
      "text/html": [
       "<div>\n",
       "<style scoped>\n",
       "    .dataframe tbody tr th:only-of-type {\n",
       "        vertical-align: middle;\n",
       "    }\n",
       "\n",
       "    .dataframe tbody tr th {\n",
       "        vertical-align: top;\n",
       "    }\n",
       "\n",
       "    .dataframe thead th {\n",
       "        text-align: right;\n",
       "    }\n",
       "</style>\n",
       "<table border=\"1\" class=\"dataframe\">\n",
       "  <thead>\n",
       "    <tr style=\"text-align: right;\">\n",
       "      <th></th>\n",
       "      <th>Temparature</th>\n",
       "      <th>Humidity</th>\n",
       "      <th>Moisture</th>\n",
       "      <th>Soil Type</th>\n",
       "      <th>Crop Type</th>\n",
       "      <th>Nitrogen</th>\n",
       "      <th>Potassium</th>\n",
       "      <th>Phosphorous</th>\n",
       "    </tr>\n",
       "  </thead>\n",
       "  <tbody>\n",
       "    <tr>\n",
       "      <th>0</th>\n",
       "      <td>26</td>\n",
       "      <td>52</td>\n",
       "      <td>38</td>\n",
       "      <td>4</td>\n",
       "      <td>3</td>\n",
       "      <td>37</td>\n",
       "      <td>0</td>\n",
       "      <td>0</td>\n",
       "    </tr>\n",
       "    <tr>\n",
       "      <th>1</th>\n",
       "      <td>29</td>\n",
       "      <td>52</td>\n",
       "      <td>45</td>\n",
       "      <td>2</td>\n",
       "      <td>8</td>\n",
       "      <td>12</td>\n",
       "      <td>0</td>\n",
       "      <td>36</td>\n",
       "    </tr>\n",
       "    <tr>\n",
       "      <th>2</th>\n",
       "      <td>34</td>\n",
       "      <td>65</td>\n",
       "      <td>62</td>\n",
       "      <td>0</td>\n",
       "      <td>1</td>\n",
       "      <td>7</td>\n",
       "      <td>9</td>\n",
       "      <td>30</td>\n",
       "    </tr>\n",
       "    <tr>\n",
       "      <th>3</th>\n",
       "      <td>32</td>\n",
       "      <td>62</td>\n",
       "      <td>34</td>\n",
       "      <td>3</td>\n",
       "      <td>9</td>\n",
       "      <td>22</td>\n",
       "      <td>0</td>\n",
       "      <td>20</td>\n",
       "    </tr>\n",
       "    <tr>\n",
       "      <th>4</th>\n",
       "      <td>28</td>\n",
       "      <td>54</td>\n",
       "      <td>46</td>\n",
       "      <td>1</td>\n",
       "      <td>6</td>\n",
       "      <td>35</td>\n",
       "      <td>0</td>\n",
       "      <td>0</td>\n",
       "    </tr>\n",
       "  </tbody>\n",
       "</table>\n",
       "</div>"
      ],
      "text/plain": [
       "   Temparature  Humidity   Moisture  Soil Type  Crop Type  Nitrogen  \\\n",
       "0           26         52        38          4          3        37   \n",
       "1           29         52        45          2          8        12   \n",
       "2           34         65        62          0          1         7   \n",
       "3           32         62        34          3          9        22   \n",
       "4           28         54        46          1          6        35   \n",
       "\n",
       "   Potassium  Phosphorous  \n",
       "0          0            0  \n",
       "1          0           36  \n",
       "2          9           30  \n",
       "3          0           20  \n",
       "4          0            0  "
      ]
     },
     "execution_count": 7,
     "metadata": {},
     "output_type": "execute_result"
    }
   ],
   "source": [
    "X.head()"
   ]
  },
  {
   "cell_type": "code",
   "execution_count": 8,
   "id": "a89fb281",
   "metadata": {
    "papermill": {
     "duration": 0.019928,
     "end_time": "2025-01-24T16:01:57.890963",
     "exception": false,
     "start_time": "2025-01-24T16:01:57.871035",
     "status": "completed"
    },
    "tags": []
   },
   "outputs": [
    {
     "data": {
      "text/plain": [
       "0        Urea\n",
       "1         DAP\n",
       "2    14-35-14\n",
       "3       28-28\n",
       "4        Urea\n",
       "Name: Fertilizer Name, dtype: object"
      ]
     },
     "execution_count": 8,
     "metadata": {},
     "output_type": "execute_result"
    }
   ],
   "source": [
    "y.head()"
   ]
  },
  {
   "cell_type": "code",
   "execution_count": 9,
   "id": "b8e6e07c",
   "metadata": {
    "papermill": {
     "duration": 0.048841,
     "end_time": "2025-01-24T16:01:57.949399",
     "exception": false,
     "start_time": "2025-01-24T16:01:57.900558",
     "status": "completed"
    },
    "tags": []
   },
   "outputs": [
    {
     "data": {
      "text/html": [
       "<div>\n",
       "<style scoped>\n",
       "    .dataframe tbody tr th:only-of-type {\n",
       "        vertical-align: middle;\n",
       "    }\n",
       "\n",
       "    .dataframe tbody tr th {\n",
       "        vertical-align: top;\n",
       "    }\n",
       "\n",
       "    .dataframe thead th {\n",
       "        text-align: right;\n",
       "    }\n",
       "</style>\n",
       "<table border=\"1\" class=\"dataframe\">\n",
       "  <thead>\n",
       "    <tr style=\"text-align: right;\">\n",
       "      <th></th>\n",
       "      <th>Temparature</th>\n",
       "      <th>Humidity</th>\n",
       "      <th>Moisture</th>\n",
       "      <th>Soil Type</th>\n",
       "      <th>Crop Type</th>\n",
       "      <th>Nitrogen</th>\n",
       "      <th>Potassium</th>\n",
       "      <th>Phosphorous</th>\n",
       "    </tr>\n",
       "  </thead>\n",
       "  <tbody>\n",
       "    <tr>\n",
       "      <th>count</th>\n",
       "      <td>99.000000</td>\n",
       "      <td>99.000000</td>\n",
       "      <td>99.000000</td>\n",
       "      <td>99.000000</td>\n",
       "      <td>99.000000</td>\n",
       "      <td>99.000000</td>\n",
       "      <td>99.000000</td>\n",
       "      <td>99.000000</td>\n",
       "    </tr>\n",
       "    <tr>\n",
       "      <th>mean</th>\n",
       "      <td>30.282828</td>\n",
       "      <td>59.151515</td>\n",
       "      <td>43.181818</td>\n",
       "      <td>2.010101</td>\n",
       "      <td>5.151515</td>\n",
       "      <td>18.909091</td>\n",
       "      <td>3.383838</td>\n",
       "      <td>18.606061</td>\n",
       "    </tr>\n",
       "    <tr>\n",
       "      <th>std</th>\n",
       "      <td>3.502304</td>\n",
       "      <td>5.840331</td>\n",
       "      <td>11.271568</td>\n",
       "      <td>1.410565</td>\n",
       "      <td>3.140790</td>\n",
       "      <td>11.599693</td>\n",
       "      <td>5.814667</td>\n",
       "      <td>13.476978</td>\n",
       "    </tr>\n",
       "    <tr>\n",
       "      <th>min</th>\n",
       "      <td>25.000000</td>\n",
       "      <td>50.000000</td>\n",
       "      <td>25.000000</td>\n",
       "      <td>0.000000</td>\n",
       "      <td>0.000000</td>\n",
       "      <td>4.000000</td>\n",
       "      <td>0.000000</td>\n",
       "      <td>0.000000</td>\n",
       "    </tr>\n",
       "    <tr>\n",
       "      <th>25%</th>\n",
       "      <td>28.000000</td>\n",
       "      <td>54.000000</td>\n",
       "      <td>34.000000</td>\n",
       "      <td>1.000000</td>\n",
       "      <td>2.000000</td>\n",
       "      <td>10.000000</td>\n",
       "      <td>0.000000</td>\n",
       "      <td>9.000000</td>\n",
       "    </tr>\n",
       "    <tr>\n",
       "      <th>50%</th>\n",
       "      <td>30.000000</td>\n",
       "      <td>60.000000</td>\n",
       "      <td>41.000000</td>\n",
       "      <td>2.000000</td>\n",
       "      <td>5.000000</td>\n",
       "      <td>13.000000</td>\n",
       "      <td>0.000000</td>\n",
       "      <td>19.000000</td>\n",
       "    </tr>\n",
       "    <tr>\n",
       "      <th>75%</th>\n",
       "      <td>33.000000</td>\n",
       "      <td>64.000000</td>\n",
       "      <td>50.500000</td>\n",
       "      <td>3.000000</td>\n",
       "      <td>8.000000</td>\n",
       "      <td>24.000000</td>\n",
       "      <td>7.500000</td>\n",
       "      <td>30.000000</td>\n",
       "    </tr>\n",
       "    <tr>\n",
       "      <th>max</th>\n",
       "      <td>38.000000</td>\n",
       "      <td>72.000000</td>\n",
       "      <td>65.000000</td>\n",
       "      <td>4.000000</td>\n",
       "      <td>10.000000</td>\n",
       "      <td>42.000000</td>\n",
       "      <td>19.000000</td>\n",
       "      <td>42.000000</td>\n",
       "    </tr>\n",
       "  </tbody>\n",
       "</table>\n",
       "</div>"
      ],
      "text/plain": [
       "       Temparature  Humidity    Moisture  Soil Type  Crop Type   Nitrogen  \\\n",
       "count    99.000000  99.000000  99.000000  99.000000  99.000000  99.000000   \n",
       "mean     30.282828  59.151515  43.181818   2.010101   5.151515  18.909091   \n",
       "std       3.502304   5.840331  11.271568   1.410565   3.140790  11.599693   \n",
       "min      25.000000  50.000000  25.000000   0.000000   0.000000   4.000000   \n",
       "25%      28.000000  54.000000  34.000000   1.000000   2.000000  10.000000   \n",
       "50%      30.000000  60.000000  41.000000   2.000000   5.000000  13.000000   \n",
       "75%      33.000000  64.000000  50.500000   3.000000   8.000000  24.000000   \n",
       "max      38.000000  72.000000  65.000000   4.000000  10.000000  42.000000   \n",
       "\n",
       "       Potassium  Phosphorous  \n",
       "count  99.000000    99.000000  \n",
       "mean    3.383838    18.606061  \n",
       "std     5.814667    13.476978  \n",
       "min     0.000000     0.000000  \n",
       "25%     0.000000     9.000000  \n",
       "50%     0.000000    19.000000  \n",
       "75%     7.500000    30.000000  \n",
       "max    19.000000    42.000000  "
      ]
     },
     "execution_count": 9,
     "metadata": {},
     "output_type": "execute_result"
    }
   ],
   "source": [
    "fertilizer.describe()"
   ]
  },
  {
   "cell_type": "code",
   "execution_count": 10,
   "id": "be075102",
   "metadata": {
    "papermill": {
     "duration": 0.020033,
     "end_time": "2025-01-24T16:01:57.979308",
     "exception": false,
     "start_time": "2025-01-24T16:01:57.959275",
     "status": "completed"
    },
    "tags": []
   },
   "outputs": [
    {
     "data": {
      "text/plain": [
       "(99, 9)"
      ]
     },
     "execution_count": 10,
     "metadata": {},
     "output_type": "execute_result"
    }
   ],
   "source": [
    "fertilizer.shape"
   ]
  },
  {
   "cell_type": "code",
   "execution_count": 11,
   "id": "ca3bf729",
   "metadata": {
    "papermill": {
     "duration": 0.023758,
     "end_time": "2025-01-24T16:01:58.014837",
     "exception": false,
     "start_time": "2025-01-24T16:01:57.991079",
     "status": "completed"
    },
    "tags": []
   },
   "outputs": [
    {
     "data": {
      "text/plain": [
       "Temparature        99\n",
       "Humidity           99\n",
       "Moisture           99\n",
       "Soil Type          99\n",
       "Crop Type          99\n",
       "Nitrogen           99\n",
       "Potassium          99\n",
       "Phosphorous        99\n",
       "Fertilizer Name    99\n",
       "dtype: int64"
      ]
     },
     "execution_count": 11,
     "metadata": {},
     "output_type": "execute_result"
    }
   ],
   "source": [
    "fertilizer.count()"
   ]
  },
  {
   "cell_type": "code",
   "execution_count": 12,
   "id": "f5e4857f",
   "metadata": {
    "papermill": {
     "duration": 0.019816,
     "end_time": "2025-01-24T16:01:58.044614",
     "exception": false,
     "start_time": "2025-01-24T16:01:58.024798",
     "status": "completed"
    },
    "tags": []
   },
   "outputs": [
    {
     "data": {
      "text/plain": [
       "array(['Urea', 'DAP', '14-35-14', '28-28', 'Urea', '17-17-17', '20-20',\n",
       "       'Urea', '28-28', '14-35-14', 'DAP', '17-17-17', 'Urea', '28-28',\n",
       "       'DAP', '17-17-17', 'Urea', '28-28', 'Urea', 'DAP', '20-20',\n",
       "       '17-17-17', 'DAP', 'Urea', '20-20', '28-28', '14-35-14', 'Urea',\n",
       "       'DAP', '20-20', '28-28', 'DAP', 'Urea', '14-35-14', '28-28',\n",
       "       'Urea', '14-35-14', 'DAP', '17-17-17', 'DAP', '20-20', '14-35-14',\n",
       "       '28-28', 'Urea', 'DAP', '14-35-14', '20-20', '28-28', 'Urea',\n",
       "       '14-35-14', '28-28', '20-20', 'Urea', 'DAP', '17-17-17', '28-28',\n",
       "       'Urea', '20-20', '17-17-17', 'DAP', 'Urea', '20-20', '28-28',\n",
       "       '10-26-26', 'Urea', 'DAP', '20-20', '14-35-14', '10-26-26',\n",
       "       '20-20', '28-28', 'Urea', '28-28', 'Urea', 'DAP', '14-35-14',\n",
       "       '28-28', '20-20', '10-26-26', 'DAP', '14-35-14', 'Urea', 'DAP',\n",
       "       '20-20', '28-28', '14-35-14', '10-26-26', 'Urea', '10-26-26',\n",
       "       'DAP', '14-35-14', '10-26-26', 'Urea', '14-35-14', '28-28',\n",
       "       '10-26-26', 'Urea', 'DAP', '20-20'], dtype=object)"
      ]
     },
     "execution_count": 12,
     "metadata": {},
     "output_type": "execute_result"
    }
   ],
   "source": [
    "fertilizer['Fertilizer Name'].values"
   ]
  },
  {
   "cell_type": "code",
   "execution_count": 13,
   "id": "f8a1ea9e",
   "metadata": {
    "papermill": {
     "duration": 0.025925,
     "end_time": "2025-01-24T16:01:58.081277",
     "exception": false,
     "start_time": "2025-01-24T16:01:58.055352",
     "status": "completed"
    },
    "tags": []
   },
   "outputs": [
    {
     "name": "stdout",
     "output_type": "stream",
     "text": [
      "[22, 18, 14, 17, 7, 14, 7]\n"
     ]
    }
   ],
   "source": [
    "data=['Urea', 'DAP', '14-35-14', '28-28', 'Urea', '17-17-17', '20-20',\n",
    "       'Urea', '28-28', '14-35-14', 'DAP', '17-17-17', 'Urea', '28-28',\n",
    "       'DAP', '17-17-17', 'Urea', '28-28', 'Urea', 'DAP', '20-20',\n",
    "       '17-17-17', 'DAP', 'Urea', '20-20', '28-28', '14-35-14', 'Urea',\n",
    "       'DAP', '20-20', '28-28', 'DAP', 'Urea', '14-35-14', '28-28',\n",
    "       'Urea', '14-35-14', 'DAP', '17-17-17', 'DAP', '20-20', '14-35-14',\n",
    "       '28-28', 'Urea', 'DAP', '14-35-14', '20-20', '28-28', 'Urea',\n",
    "       '14-35-14', '28-28', '20-20', 'Urea', 'DAP', '17-17-17', '28-28',\n",
    "       'Urea', '20-20', '17-17-17', 'DAP', 'Urea', '20-20', '28-28',\n",
    "       '10-26-26', 'Urea', 'DAP', '20-20', '14-35-14', '10-26-26',\n",
    "       '20-20', '28-28', 'Urea', '28-28', 'Urea', 'DAP', '14-35-14',\n",
    "       '28-28', '20-20', '10-26-26', 'DAP', '14-35-14', 'Urea', 'DAP',\n",
    "       '20-20', '28-28', '14-35-14', '10-26-26', 'Urea', '10-26-26',\n",
    "       'DAP', '14-35-14', '10-26-26', 'Urea', '14-35-14', '28-28',\n",
    "       '10-26-26', 'Urea', 'DAP', '20-20']\n",
    "List=[]\n",
    "UreaCount=0;\n",
    "DAPCount=0;\n",
    "F143514Count=0;\n",
    "F2828Count=0;\n",
    "F171717Count=0;\n",
    "F2020Count=0;\n",
    "F102626Count=0;\n",
    "for x in data:\n",
    "    if x=='Urea':\n",
    "       UreaCount = UreaCount + 1;\n",
    "    elif x=='DAP':\n",
    "       DAPCount = DAPCount + 1;\n",
    "    elif x=='14-35-14':\n",
    "       F143514Count = F143514Count + 1;\n",
    "    elif x=='28-28':\n",
    "       F2828Count = F2828Count + 1;\n",
    "    elif x=='17-17-17':\n",
    "       F171717Count = F171717Count + 1;\n",
    "    elif x=='20-20':\n",
    "       F2020Count = F2020Count + 1;\n",
    "    elif x=='10-26-26':\n",
    "       F102626Count = F102626Count + 1;\n",
    "List.append(UreaCount)\n",
    "List.append(DAPCount)\n",
    "List.append(F143514Count)\n",
    "List.append(F2828Count)\n",
    "List.append(F171717Count)\n",
    "List.append(F2020Count)\n",
    "List.append(F102626Count)\n",
    "print(List)"
   ]
  },
  {
   "cell_type": "code",
   "execution_count": 14,
   "id": "2f25a684",
   "metadata": {
    "papermill": {
     "duration": 0.020345,
     "end_time": "2025-01-24T16:01:58.112605",
     "exception": false,
     "start_time": "2025-01-24T16:01:58.092260",
     "status": "completed"
    },
    "tags": []
   },
   "outputs": [
    {
     "data": {
      "text/plain": [
       "array(['Urea', 'DAP', '14-35-14', '28-28', 'Urea', '17-17-17', '20-20',\n",
       "       'Urea', '28-28', '14-35-14', 'DAP', '17-17-17', 'Urea', '28-28',\n",
       "       'DAP', '17-17-17', 'Urea', '28-28', 'Urea', 'DAP', '20-20',\n",
       "       '17-17-17', 'DAP', 'Urea', '20-20', '28-28', '14-35-14', 'Urea',\n",
       "       'DAP', '20-20', '28-28', 'DAP', 'Urea', '14-35-14', '28-28',\n",
       "       'Urea', '14-35-14', 'DAP', '17-17-17', 'DAP', '20-20', '14-35-14',\n",
       "       '28-28', 'Urea', 'DAP', '14-35-14', '20-20', '28-28', 'Urea',\n",
       "       '14-35-14', '28-28', '20-20', 'Urea', 'DAP', '17-17-17', '28-28',\n",
       "       'Urea', '20-20', '17-17-17', 'DAP', 'Urea', '20-20', '28-28',\n",
       "       '10-26-26', 'Urea', 'DAP', '20-20', '14-35-14', '10-26-26',\n",
       "       '20-20', '28-28', 'Urea', '28-28', 'Urea', 'DAP', '14-35-14',\n",
       "       '28-28', '20-20', '10-26-26', 'DAP', '14-35-14', 'Urea', 'DAP',\n",
       "       '20-20', '28-28', '14-35-14', '10-26-26', 'Urea', '10-26-26',\n",
       "       'DAP', '14-35-14', '10-26-26', 'Urea', '14-35-14', '28-28',\n",
       "       '10-26-26', 'Urea', 'DAP', '20-20'], dtype=object)"
      ]
     },
     "execution_count": 14,
     "metadata": {},
     "output_type": "execute_result"
    }
   ],
   "source": [
    "#To display the values of column fertilizer name\n",
    "fertilizer.iloc[:,8].values"
   ]
  },
  {
   "cell_type": "code",
   "execution_count": 15,
   "id": "56993171",
   "metadata": {
    "papermill": {
     "duration": 0.029525,
     "end_time": "2025-01-24T16:01:58.152371",
     "exception": false,
     "start_time": "2025-01-24T16:01:58.122846",
     "status": "completed"
    },
    "tags": []
   },
   "outputs": [
    {
     "name": "stdout",
     "output_type": "stream",
     "text": [
      "    10-26-26  14-35-14  17-17-17  20-20  28-28    DAP   Urea\n",
      "0      False     False     False  False  False  False   True\n",
      "1      False     False     False  False  False   True  False\n",
      "2      False      True     False  False  False  False  False\n",
      "3      False     False     False  False   True  False  False\n",
      "4      False     False     False  False  False  False   True\n",
      "..       ...       ...       ...    ...    ...    ...    ...\n",
      "94     False     False     False  False   True  False  False\n",
      "95      True     False     False  False  False  False  False\n",
      "96     False     False     False  False  False  False   True\n",
      "97     False     False     False  False  False   True  False\n",
      "98     False     False     False   True  False  False  False\n",
      "\n",
      "[99 rows x 7 columns]\n"
     ]
    }
   ],
   "source": [
    "#Encoding Fertilizer Name using get_dummies\n",
    "one_hot_encoded_data = pd.get_dummies(data, columns = ['Fertilizer Name'])\n",
    "print(one_hot_encoded_data)"
   ]
  },
  {
   "cell_type": "code",
   "execution_count": 16,
   "id": "38b171b2",
   "metadata": {
    "papermill": {
     "duration": 0.027611,
     "end_time": "2025-01-24T16:01:58.190531",
     "exception": false,
     "start_time": "2025-01-24T16:01:58.162920",
     "status": "completed"
    },
    "tags": []
   },
   "outputs": [
    {
     "data": {
      "text/plain": [
       "array([0., 0., 0., 0., 0., 0., 0., 0., 0., 0., 0., 0., 0., 0., 0., 0., 0.,\n",
       "       0., 0., 0., 0., 0., 0., 0., 0., 0., 0., 0., 0., 0., 0., 0., 0., 0.,\n",
       "       0., 0., 0., 0., 0., 0., 0., 0., 0., 0., 0., 0., 0., 0., 0., 0., 0.,\n",
       "       0., 0., 0., 0., 0., 0., 0., 0., 0., 0., 0., 0., 1., 0., 0., 0., 0.,\n",
       "       1., 0., 0., 0., 0., 0., 0., 0., 0., 0., 1., 0., 0., 0., 0., 0., 0.,\n",
       "       0., 1., 0., 1., 0., 0., 1., 0., 0., 0., 1., 0., 0., 0.])"
      ]
     },
     "execution_count": 16,
     "metadata": {},
     "output_type": "execute_result"
    }
   ],
   "source": [
    "from sklearn.preprocessing import OneHotEncoder\n",
    "onehot_encoder=OneHotEncoder()\n",
    "fertilizer['Fertilizer Name']=onehot_encoder.fit_transform(fertilizer[['Fertilizer Name']]).toarray()\n",
    "fertilizer['Fertilizer Name'].values"
   ]
  },
  {
   "cell_type": "code",
   "execution_count": 17,
   "id": "eb6bb1b1",
   "metadata": {
    "papermill": {
     "duration": 0.026551,
     "end_time": "2025-01-24T16:01:58.227472",
     "exception": false,
     "start_time": "2025-01-24T16:01:58.200921",
     "status": "completed"
    },
    "tags": []
   },
   "outputs": [
    {
     "data": {
      "text/plain": [
       "array([0., 0., 1., 0., 0., 0., 0., 0., 0., 1., 0., 0., 0., 0., 0., 1., 0.,\n",
       "       0., 1., 0., 0., 0., 0., 1., 0., 0., 0., 0., 1., 0., 0., 0., 0., 0.,\n",
       "       0., 1., 0., 0., 0., 0., 0., 0., 0., 1., 0., 0., 1., 0., 0., 0., 0.,\n",
       "       1., 0., 0., 0., 1., 0., 0., 0., 0., 0., 0., 1., 0., 1., 0., 1., 0.,\n",
       "       0., 0., 0., 0., 0., 1., 0., 0., 0., 0., 0., 0., 0., 0., 1., 0., 0.,\n",
       "       0., 0., 1., 0., 0., 1., 0., 0., 0., 0., 0., 0., 0., 1.])"
      ]
     },
     "execution_count": 17,
     "metadata": {},
     "output_type": "execute_result"
    }
   ],
   "source": [
    "from sklearn.preprocessing import OneHotEncoder\n",
    "onehot_encoder=OneHotEncoder()\n",
    "fertilizer['Soil Type']=onehot_encoder.fit_transform(fertilizer[['Soil Type']]).toarray()\n",
    "fertilizer['Soil Type'].values"
   ]
  },
  {
   "cell_type": "code",
   "execution_count": 18,
   "id": "de647193",
   "metadata": {
    "papermill": {
     "duration": 0.025165,
     "end_time": "2025-01-24T16:01:58.263545",
     "exception": false,
     "start_time": "2025-01-24T16:01:58.238380",
     "status": "completed"
    },
    "tags": []
   },
   "outputs": [
    {
     "data": {
      "text/plain": [
       "array([0., 0., 0., 0., 0., 1., 0., 0., 0., 0., 0., 0., 0., 0., 0., 0., 0.,\n",
       "       1., 0., 0., 0., 0., 0., 0., 0., 0., 0., 0., 0., 0., 0., 0., 0., 1.,\n",
       "       0., 0., 0., 0., 0., 0., 0., 0., 0., 0., 1., 0., 0., 0., 0., 0., 0.,\n",
       "       0., 0., 1., 0., 0., 0., 0., 0., 0., 0., 0., 0., 1., 0., 0., 0., 0.,\n",
       "       0., 0., 0., 0., 0., 0., 0., 0., 0., 0., 0., 0., 0., 0., 0., 0., 1.,\n",
       "       0., 0., 0., 0., 0., 0., 0., 0., 0., 0., 0., 0., 0., 0.])"
      ]
     },
     "execution_count": 18,
     "metadata": {},
     "output_type": "execute_result"
    }
   ],
   "source": [
    "from sklearn.preprocessing import OneHotEncoder\n",
    "onehot_encoder=OneHotEncoder()\n",
    "fertilizer['Crop Type']=onehot_encoder.fit_transform(fertilizer[['Crop Type']]).toarray()\n",
    "fertilizer['Crop Type'].values"
   ]
  },
  {
   "cell_type": "code",
   "execution_count": 19,
   "id": "bbee6bc3",
   "metadata": {
    "papermill": {
     "duration": 0.02036,
     "end_time": "2025-01-24T16:01:58.295178",
     "exception": false,
     "start_time": "2025-01-24T16:01:58.274818",
     "status": "completed"
    },
    "tags": []
   },
   "outputs": [
    {
     "data": {
      "text/plain": [
       "dtype('float64')"
      ]
     },
     "execution_count": 19,
     "metadata": {},
     "output_type": "execute_result"
    }
   ],
   "source": [
    "#Now checking data type of column fertilizer name\n",
    "fertilizer['Fertilizer Name'].dtype"
   ]
  },
  {
   "cell_type": "code",
   "execution_count": 20,
   "id": "74ccf291",
   "metadata": {
    "papermill": {
     "duration": 0.030767,
     "end_time": "2025-01-24T16:01:58.336730",
     "exception": false,
     "start_time": "2025-01-24T16:01:58.305963",
     "status": "completed"
    },
    "tags": []
   },
   "outputs": [
    {
     "data": {
      "text/html": [
       "<div>\n",
       "<style scoped>\n",
       "    .dataframe tbody tr th:only-of-type {\n",
       "        vertical-align: middle;\n",
       "    }\n",
       "\n",
       "    .dataframe tbody tr th {\n",
       "        vertical-align: top;\n",
       "    }\n",
       "\n",
       "    .dataframe thead th {\n",
       "        text-align: right;\n",
       "    }\n",
       "</style>\n",
       "<table border=\"1\" class=\"dataframe\">\n",
       "  <thead>\n",
       "    <tr style=\"text-align: right;\">\n",
       "      <th></th>\n",
       "      <th>Temparature</th>\n",
       "      <th>Humidity</th>\n",
       "      <th>Moisture</th>\n",
       "      <th>Soil Type</th>\n",
       "      <th>Crop Type</th>\n",
       "      <th>Nitrogen</th>\n",
       "      <th>Potassium</th>\n",
       "      <th>Phosphorous</th>\n",
       "      <th>Fertilizer Name</th>\n",
       "    </tr>\n",
       "  </thead>\n",
       "  <tbody>\n",
       "    <tr>\n",
       "      <th>0</th>\n",
       "      <td>26</td>\n",
       "      <td>52</td>\n",
       "      <td>38</td>\n",
       "      <td>0.0</td>\n",
       "      <td>0.0</td>\n",
       "      <td>37</td>\n",
       "      <td>0</td>\n",
       "      <td>0</td>\n",
       "      <td>0.0</td>\n",
       "    </tr>\n",
       "    <tr>\n",
       "      <th>1</th>\n",
       "      <td>29</td>\n",
       "      <td>52</td>\n",
       "      <td>45</td>\n",
       "      <td>0.0</td>\n",
       "      <td>0.0</td>\n",
       "      <td>12</td>\n",
       "      <td>0</td>\n",
       "      <td>36</td>\n",
       "      <td>0.0</td>\n",
       "    </tr>\n",
       "    <tr>\n",
       "      <th>2</th>\n",
       "      <td>34</td>\n",
       "      <td>65</td>\n",
       "      <td>62</td>\n",
       "      <td>1.0</td>\n",
       "      <td>0.0</td>\n",
       "      <td>7</td>\n",
       "      <td>9</td>\n",
       "      <td>30</td>\n",
       "      <td>0.0</td>\n",
       "    </tr>\n",
       "    <tr>\n",
       "      <th>3</th>\n",
       "      <td>32</td>\n",
       "      <td>62</td>\n",
       "      <td>34</td>\n",
       "      <td>0.0</td>\n",
       "      <td>0.0</td>\n",
       "      <td>22</td>\n",
       "      <td>0</td>\n",
       "      <td>20</td>\n",
       "      <td>0.0</td>\n",
       "    </tr>\n",
       "    <tr>\n",
       "      <th>4</th>\n",
       "      <td>28</td>\n",
       "      <td>54</td>\n",
       "      <td>46</td>\n",
       "      <td>0.0</td>\n",
       "      <td>0.0</td>\n",
       "      <td>35</td>\n",
       "      <td>0</td>\n",
       "      <td>0</td>\n",
       "      <td>0.0</td>\n",
       "    </tr>\n",
       "  </tbody>\n",
       "</table>\n",
       "</div>"
      ],
      "text/plain": [
       "   Temparature  Humidity   Moisture  Soil Type  Crop Type  Nitrogen  \\\n",
       "0           26         52        38        0.0        0.0        37   \n",
       "1           29         52        45        0.0        0.0        12   \n",
       "2           34         65        62        1.0        0.0         7   \n",
       "3           32         62        34        0.0        0.0        22   \n",
       "4           28         54        46        0.0        0.0        35   \n",
       "\n",
       "   Potassium  Phosphorous  Fertilizer Name  \n",
       "0          0            0              0.0  \n",
       "1          0           36              0.0  \n",
       "2          9           30              0.0  \n",
       "3          0           20              0.0  \n",
       "4          0            0              0.0  "
      ]
     },
     "execution_count": 20,
     "metadata": {},
     "output_type": "execute_result"
    }
   ],
   "source": [
    "fertilizer.head(5)"
   ]
  },
  {
   "cell_type": "code",
   "execution_count": 21,
   "id": "0f9d284b",
   "metadata": {
    "papermill": {
     "duration": 0.035535,
     "end_time": "2025-01-24T16:01:58.385750",
     "exception": false,
     "start_time": "2025-01-24T16:01:58.350215",
     "status": "completed"
    },
    "tags": []
   },
   "outputs": [
    {
     "data": {
      "text/html": [
       "<div>\n",
       "<style scoped>\n",
       "    .dataframe tbody tr th:only-of-type {\n",
       "        vertical-align: middle;\n",
       "    }\n",
       "\n",
       "    .dataframe tbody tr th {\n",
       "        vertical-align: top;\n",
       "    }\n",
       "\n",
       "    .dataframe thead th {\n",
       "        text-align: right;\n",
       "    }\n",
       "</style>\n",
       "<table border=\"1\" class=\"dataframe\">\n",
       "  <thead>\n",
       "    <tr style=\"text-align: right;\">\n",
       "      <th></th>\n",
       "      <th>Temparature</th>\n",
       "      <th>Humidity</th>\n",
       "      <th>Moisture</th>\n",
       "      <th>Soil Type</th>\n",
       "      <th>Crop Type</th>\n",
       "      <th>Nitrogen</th>\n",
       "      <th>Potassium</th>\n",
       "      <th>Phosphorous</th>\n",
       "      <th>Fertilizer Name</th>\n",
       "    </tr>\n",
       "  </thead>\n",
       "  <tbody>\n",
       "    <tr>\n",
       "      <th>Temparature</th>\n",
       "      <td>1.000000</td>\n",
       "      <td>0.973164</td>\n",
       "      <td>0.091222</td>\n",
       "      <td>-0.002751</td>\n",
       "      <td>-0.011080</td>\n",
       "      <td>-0.033771</td>\n",
       "      <td>-0.023424</td>\n",
       "      <td>0.207545</td>\n",
       "      <td>-0.045006</td>\n",
       "    </tr>\n",
       "    <tr>\n",
       "      <th>Humidity</th>\n",
       "      <td>0.973164</td>\n",
       "      <td>1.000000</td>\n",
       "      <td>0.091342</td>\n",
       "      <td>-0.017121</td>\n",
       "      <td>-0.007192</td>\n",
       "      <td>-0.060646</td>\n",
       "      <td>-0.003833</td>\n",
       "      <td>0.204044</td>\n",
       "      <td>-0.047881</td>\n",
       "    </tr>\n",
       "    <tr>\n",
       "      <th>Moisture</th>\n",
       "      <td>0.091222</td>\n",
       "      <td>0.091342</td>\n",
       "      <td>1.000000</td>\n",
       "      <td>0.065288</td>\n",
       "      <td>-0.036096</td>\n",
       "      <td>-0.095945</td>\n",
       "      <td>0.027727</td>\n",
       "      <td>0.009276</td>\n",
       "      <td>-0.095831</td>\n",
       "    </tr>\n",
       "    <tr>\n",
       "      <th>Soil Type</th>\n",
       "      <td>-0.002751</td>\n",
       "      <td>-0.017121</td>\n",
       "      <td>0.065288</td>\n",
       "      <td>1.000000</td>\n",
       "      <td>-0.134427</td>\n",
       "      <td>0.130520</td>\n",
       "      <td>-0.116573</td>\n",
       "      <td>-0.165494</td>\n",
       "      <td>-0.134427</td>\n",
       "    </tr>\n",
       "    <tr>\n",
       "      <th>Crop Type</th>\n",
       "      <td>-0.011080</td>\n",
       "      <td>-0.007192</td>\n",
       "      <td>-0.036096</td>\n",
       "      <td>-0.134427</td>\n",
       "      <td>1.000000</td>\n",
       "      <td>-0.151475</td>\n",
       "      <td>0.090681</td>\n",
       "      <td>0.152105</td>\n",
       "      <td>0.077640</td>\n",
       "    </tr>\n",
       "    <tr>\n",
       "      <th>Nitrogen</th>\n",
       "      <td>-0.033771</td>\n",
       "      <td>-0.060646</td>\n",
       "      <td>-0.095945</td>\n",
       "      <td>0.130520</td>\n",
       "      <td>-0.151475</td>\n",
       "      <td>1.000000</td>\n",
       "      <td>-0.500087</td>\n",
       "      <td>-0.686971</td>\n",
       "      <td>-0.270980</td>\n",
       "    </tr>\n",
       "    <tr>\n",
       "      <th>Potassium</th>\n",
       "      <td>-0.023424</td>\n",
       "      <td>-0.003833</td>\n",
       "      <td>0.027727</td>\n",
       "      <td>-0.116573</td>\n",
       "      <td>0.090681</td>\n",
       "      <td>-0.500087</td>\n",
       "      <td>1.000000</td>\n",
       "      <td>0.089192</td>\n",
       "      <td>0.683274</td>\n",
       "    </tr>\n",
       "    <tr>\n",
       "      <th>Phosphorous</th>\n",
       "      <td>0.207545</td>\n",
       "      <td>0.204044</td>\n",
       "      <td>0.009276</td>\n",
       "      <td>-0.165494</td>\n",
       "      <td>0.152105</td>\n",
       "      <td>-0.686971</td>\n",
       "      <td>0.089192</td>\n",
       "      <td>1.000000</td>\n",
       "      <td>-0.018345</td>\n",
       "    </tr>\n",
       "    <tr>\n",
       "      <th>Fertilizer Name</th>\n",
       "      <td>-0.045006</td>\n",
       "      <td>-0.047881</td>\n",
       "      <td>-0.095831</td>\n",
       "      <td>-0.134427</td>\n",
       "      <td>0.077640</td>\n",
       "      <td>-0.270980</td>\n",
       "      <td>0.683274</td>\n",
       "      <td>-0.018345</td>\n",
       "      <td>1.000000</td>\n",
       "    </tr>\n",
       "  </tbody>\n",
       "</table>\n",
       "</div>"
      ],
      "text/plain": [
       "                 Temparature  Humidity   Moisture  Soil Type  Crop Type  \\\n",
       "Temparature         1.000000   0.973164  0.091222  -0.002751  -0.011080   \n",
       "Humidity            0.973164   1.000000  0.091342  -0.017121  -0.007192   \n",
       "Moisture            0.091222   0.091342  1.000000   0.065288  -0.036096   \n",
       "Soil Type          -0.002751  -0.017121  0.065288   1.000000  -0.134427   \n",
       "Crop Type          -0.011080  -0.007192 -0.036096  -0.134427   1.000000   \n",
       "Nitrogen           -0.033771  -0.060646 -0.095945   0.130520  -0.151475   \n",
       "Potassium          -0.023424  -0.003833  0.027727  -0.116573   0.090681   \n",
       "Phosphorous         0.207545   0.204044  0.009276  -0.165494   0.152105   \n",
       "Fertilizer Name    -0.045006  -0.047881 -0.095831  -0.134427   0.077640   \n",
       "\n",
       "                 Nitrogen  Potassium  Phosphorous  Fertilizer Name  \n",
       "Temparature     -0.033771  -0.023424     0.207545        -0.045006  \n",
       "Humidity        -0.060646  -0.003833     0.204044        -0.047881  \n",
       "Moisture        -0.095945   0.027727     0.009276        -0.095831  \n",
       "Soil Type        0.130520  -0.116573    -0.165494        -0.134427  \n",
       "Crop Type       -0.151475   0.090681     0.152105         0.077640  \n",
       "Nitrogen         1.000000  -0.500087    -0.686971        -0.270980  \n",
       "Potassium       -0.500087   1.000000     0.089192         0.683274  \n",
       "Phosphorous     -0.686971   0.089192     1.000000        -0.018345  \n",
       "Fertilizer Name -0.270980   0.683274    -0.018345         1.000000  "
      ]
     },
     "execution_count": 21,
     "metadata": {},
     "output_type": "execute_result"
    }
   ],
   "source": [
    "#Finding the correlation \n",
    "#corr() function tells us how one column can influence the other\n",
    "data1=fertilizer.iloc[:,0:9].corr()\n",
    "data1"
   ]
  },
  {
   "cell_type": "code",
   "execution_count": 22,
   "id": "e999d6f1",
   "metadata": {
    "papermill": {
     "duration": 0.021567,
     "end_time": "2025-01-24T16:01:58.419034",
     "exception": false,
     "start_time": "2025-01-24T16:01:58.397467",
     "status": "completed"
    },
    "tags": []
   },
   "outputs": [],
   "source": [
    "#Dividing data into X and Y(converting into numpy)\n",
    "X=fertilizer.iloc[:,0:8].values  #Independent dataset \n",
    "Y=fertilizer.iloc[:,8].values     #Dependent dataset "
   ]
  },
  {
   "cell_type": "code",
   "execution_count": 23,
   "id": "7c4ae32e",
   "metadata": {
    "papermill": {
     "duration": 0.025066,
     "end_time": "2025-01-24T16:01:58.455462",
     "exception": false,
     "start_time": "2025-01-24T16:01:58.430396",
     "status": "completed"
    },
    "tags": []
   },
   "outputs": [
    {
     "name": "stdout",
     "output_type": "stream",
     "text": [
      "[[26. 52. 38.  0.  0. 37.  0.  0.]\n",
      " [29. 52. 45.  0.  0. 12.  0. 36.]\n",
      " [34. 65. 62.  1.  0.  7.  9. 30.]\n",
      " [32. 62. 34.  0.  0. 22.  0. 20.]\n",
      " [28. 54. 46.  0.  0. 35.  0.  0.]\n",
      " [26. 52. 35.  0.  1. 12. 10. 13.]\n",
      " [25. 50. 64.  0.  0.  9.  0. 10.]\n",
      " [33. 64. 50.  0.  0. 41.  0.  0.]\n",
      " [30. 60. 42.  0.  0. 21.  0. 18.]\n",
      " [29. 58. 33.  1.  0.  9.  7. 30.]\n",
      " [27. 54. 28.  0.  0. 13.  0. 40.]\n",
      " [31. 62. 48.  0.  0. 14. 15. 12.]\n",
      " [25. 50. 65.  0.  0. 36.  0.  0.]\n",
      " [32. 62. 41.  0.  0. 24.  0. 22.]\n",
      " [26. 52. 31.  0.  0. 14.  0. 41.]\n",
      " [31. 62. 49.  1.  0. 10. 13. 14.]\n",
      " [33. 64. 34.  0.  0. 38.  0.  0.]\n",
      " [25. 50. 39.  0.  1. 21.  0. 19.]\n",
      " [28. 54. 65.  1.  0. 39.  0.  0.]\n",
      " [29. 58. 52.  0.  0. 13.  0. 36.]\n",
      " [30. 60. 44.  0.  0. 10.  0.  9.]\n",
      " [34. 65. 53.  0.  0. 12. 14. 12.]\n",
      " [35. 68. 33.  0.  0. 11.  0. 37.]\n",
      " [28. 54. 37.  1.  0. 36.  0.  0.]\n",
      " [33. 64. 39.  0.  0. 13.  0. 10.]\n",
      " [26. 52. 44.  0.  0. 23.  0. 20.]\n",
      " [30. 60. 63.  0.  0.  9.  9. 29.]\n",
      " [32. 62. 30.  0.  0. 38.  0.  0.]\n",
      " [37. 70. 32.  1.  0. 12.  0. 39.]\n",
      " [26. 52. 36.  0.  0. 14.  0. 13.]\n",
      " [29. 58. 40.  0.  0. 24.  0. 23.]\n",
      " [30. 60. 27.  0.  0. 12.  0. 40.]\n",
      " [34. 65. 38.  0.  0. 39.  0.  0.]\n",
      " [36. 68. 38.  0.  1.  7.  9. 30.]\n",
      " [26. 52. 48.  0.  0. 23.  0. 19.]\n",
      " [28. 54. 35.  1.  0. 41.  0.  0.]\n",
      " [30. 60. 61.  0.  0.  8. 10. 31.]\n",
      " [37. 70. 37.  0.  0. 12.  0. 41.]\n",
      " [25. 50. 26.  0.  0. 15. 14. 11.]\n",
      " [29. 58. 34.  0.  0. 15.  0. 37.]\n",
      " [27. 54. 30.  0.  0. 13.  0. 13.]\n",
      " [30. 60. 58.  0.  0. 10.  7. 32.]\n",
      " [32. 62. 34.  0.  0. 22.  0. 24.]\n",
      " [34. 65. 60.  1.  0. 35.  0.  0.]\n",
      " [35. 67. 42.  0.  1. 10.  0. 35.]\n",
      " [38. 70. 48.  0.  0.  8.  8. 28.]\n",
      " [26. 52. 32.  1.  0. 12.  0.  8.]\n",
      " [29. 58. 43.  0.  0. 24.  0. 18.]\n",
      " [30. 60. 29.  0.  0. 41.  0.  0.]\n",
      " [33. 64. 51.  0.  0.  5.  9. 29.]\n",
      " [34. 65. 31.  0.  0. 23.  0. 21.]\n",
      " [36. 68. 33.  1.  0. 13.  0. 14.]\n",
      " [28. 54. 38.  0.  0. 40.  0.  0.]\n",
      " [30. 60. 47.  0.  1. 12.  0. 42.]\n",
      " [31. 62. 63.  0.  0. 11. 12. 15.]\n",
      " [27. 53. 43.  1.  0. 23.  0. 24.]\n",
      " [34. 65. 54.  0.  0. 38.  0.  0.]\n",
      " [29. 58. 37.  0.  0.  8.  0. 15.]\n",
      " [25. 50. 56.  0.  0. 11. 13. 15.]\n",
      " [32. 62. 34.  0.  0. 15.  0. 37.]\n",
      " [28. 54. 41.  0.  0. 36.  0.  0.]\n",
      " [30. 60. 49.  0.  0. 13.  0.  9.]\n",
      " [34. 65. 64.  1.  0. 24.  0. 20.]\n",
      " [28. 54. 47.  0.  1.  5. 18. 15.]\n",
      " [27. 53. 35.  1.  0. 37.  0.  0.]\n",
      " [36. 68. 62.  0.  0. 15.  0. 40.]\n",
      " [34. 65. 57.  1.  0.  9.  0. 13.]\n",
      " [29. 58. 55.  0.  0.  8.  8. 33.]\n",
      " [25. 50. 40.  0.  0.  6. 19. 16.]\n",
      " [30. 60. 38.  0.  0. 10.  0. 14.]\n",
      " [26. 52. 39.  0.  0. 21.  0. 23.]\n",
      " [31. 62. 32.  0.  0. 39.  0.  0.]\n",
      " [34. 65. 48.  0.  0. 23.  0. 19.]\n",
      " [27. 53. 34.  1.  0. 42.  0.  0.]\n",
      " [33. 64. 31.  0.  0. 13.  0. 39.]\n",
      " [29. 58. 42.  0.  0.  9. 10. 22.]\n",
      " [30. 60. 47.  0.  0. 22.  0. 21.]\n",
      " [27. 53. 59.  0.  0. 10.  0. 15.]\n",
      " [26. 52. 36.  0.  0.  7. 16. 20.]\n",
      " [34. 65. 63.  0.  0. 14.  0. 38.]\n",
      " [28. 54. 43.  0.  0. 10.  8. 29.]\n",
      " [30. 60. 40.  0.  0. 41.  0.  0.]\n",
      " [29. 58. 65.  1.  0. 14.  0. 35.]\n",
      " [26. 52. 59.  0.  0. 11.  0.  9.]\n",
      " [31. 62. 44.  0.  1. 21.  0. 28.]\n",
      " [35. 67. 28.  0.  0.  8.  7. 31.]\n",
      " [29. 58. 30.  0.  0. 13. 17. 16.]\n",
      " [27. 53. 30.  1.  0. 35.  0.  0.]\n",
      " [36. 68. 50.  0.  0. 12. 18. 19.]\n",
      " [29. 58. 61.  0.  0. 11.  0. 38.]\n",
      " [30. 60. 26.  1.  0.  8.  9. 30.]\n",
      " [34. 65. 45.  0.  0.  6. 19. 21.]\n",
      " [36. 68. 41.  0.  0. 41.  0.  0.]\n",
      " [28. 54. 25.  0.  0.  9. 10. 30.]\n",
      " [25. 50. 32.  0.  0. 24.  0. 19.]\n",
      " [30. 60. 27.  0.  0.  4. 17. 17.]\n",
      " [38. 72. 51.  0.  0. 39.  0.  0.]\n",
      " [36. 60. 43.  0.  0. 15.  0. 41.]\n",
      " [29. 58. 57.  1.  0. 12.  0. 10.]]\n"
     ]
    }
   ],
   "source": [
    "print(X)"
   ]
  },
  {
   "cell_type": "code",
   "execution_count": 24,
   "id": "3765c27c",
   "metadata": {
    "papermill": {
     "duration": 0.022614,
     "end_time": "2025-01-24T16:01:58.490107",
     "exception": false,
     "start_time": "2025-01-24T16:01:58.467493",
     "status": "completed"
    },
    "tags": []
   },
   "outputs": [
    {
     "name": "stdout",
     "output_type": "stream",
     "text": [
      "[0. 0. 0. 0. 0. 0. 0. 0. 0. 0. 0. 0. 0. 0. 0. 0. 0. 0. 0. 0. 0. 0. 0. 0.\n",
      " 0. 0. 0. 0. 0. 0. 0. 0. 0. 0. 0. 0. 0. 0. 0. 0. 0. 0. 0. 0. 0. 0. 0. 0.\n",
      " 0. 0. 0. 0. 0. 0. 0. 0. 0. 0. 0. 0. 0. 0. 0. 1. 0. 0. 0. 0. 1. 0. 0. 0.\n",
      " 0. 0. 0. 0. 0. 0. 1. 0. 0. 0. 0. 0. 0. 0. 1. 0. 1. 0. 0. 1. 0. 0. 0. 1.\n",
      " 0. 0. 0.]\n"
     ]
    }
   ],
   "source": [
    "print(Y)"
   ]
  },
  {
   "cell_type": "code",
   "execution_count": 25,
   "id": "dfe75d39",
   "metadata": {
    "papermill": {
     "duration": 0.163749,
     "end_time": "2025-01-24T16:01:58.668498",
     "exception": false,
     "start_time": "2025-01-24T16:01:58.504749",
     "status": "completed"
    },
    "tags": []
   },
   "outputs": [],
   "source": [
    "from sklearn.model_selection import train_test_split\n",
    "\n",
    "X_train, X_test, y_train, y_test = train_test_split(X, y, test_size=0.2, random_state=0)"
   ]
  },
  {
   "cell_type": "code",
   "execution_count": 26,
   "id": "dc02d805",
   "metadata": {
    "papermill": {
     "duration": 0.021553,
     "end_time": "2025-01-24T16:01:58.701505",
     "exception": false,
     "start_time": "2025-01-24T16:01:58.679952",
     "status": "completed"
    },
    "tags": []
   },
   "outputs": [
    {
     "data": {
      "text/plain": [
       "(79, 8)"
      ]
     },
     "execution_count": 26,
     "metadata": {},
     "output_type": "execute_result"
    }
   ],
   "source": [
    "X_train.shape"
   ]
  },
  {
   "cell_type": "code",
   "execution_count": 27,
   "id": "c3f4316d",
   "metadata": {
    "papermill": {
     "duration": 0.02226,
     "end_time": "2025-01-24T16:01:58.735148",
     "exception": false,
     "start_time": "2025-01-24T16:01:58.712888",
     "status": "completed"
    },
    "tags": []
   },
   "outputs": [
    {
     "data": {
      "text/plain": [
       "(79,)"
      ]
     },
     "execution_count": 27,
     "metadata": {},
     "output_type": "execute_result"
    }
   ],
   "source": [
    "y_train.shape"
   ]
  },
  {
   "cell_type": "code",
   "execution_count": 28,
   "id": "00735d95",
   "metadata": {
    "papermill": {
     "duration": 0.020248,
     "end_time": "2025-01-24T16:01:58.768730",
     "exception": false,
     "start_time": "2025-01-24T16:01:58.748482",
     "status": "completed"
    },
    "tags": []
   },
   "outputs": [
    {
     "data": {
      "text/plain": [
       "(20, 8)"
      ]
     },
     "execution_count": 28,
     "metadata": {},
     "output_type": "execute_result"
    }
   ],
   "source": [
    "X_test.shape"
   ]
  },
  {
   "cell_type": "code",
   "execution_count": 29,
   "id": "9356a2a7",
   "metadata": {
    "papermill": {
     "duration": 0.019925,
     "end_time": "2025-01-24T16:01:58.800285",
     "exception": false,
     "start_time": "2025-01-24T16:01:58.780360",
     "status": "completed"
    },
    "tags": []
   },
   "outputs": [
    {
     "data": {
      "text/plain": [
       "(20,)"
      ]
     },
     "execution_count": 29,
     "metadata": {},
     "output_type": "execute_result"
    }
   ],
   "source": [
    "y_test.shape"
   ]
  },
  {
   "cell_type": "code",
   "execution_count": 30,
   "id": "e1c0e089",
   "metadata": {
    "papermill": {
     "duration": 0.024989,
     "end_time": "2025-01-24T16:01:58.837550",
     "exception": false,
     "start_time": "2025-01-24T16:01:58.812561",
     "status": "completed"
    },
    "tags": []
   },
   "outputs": [
    {
     "data": {
      "text/plain": [
       "array([[34., 65., 60.,  1.,  0., 35.,  0.,  0.],\n",
       "       [34., 65., 64.,  1.,  0., 24.,  0., 20.],\n",
       "       [32., 62., 34.,  0.,  0., 22.,  0., 20.],\n",
       "       [31., 62., 32.,  0.,  0., 39.,  0.,  0.],\n",
       "       [38., 70., 48.,  0.,  0.,  8.,  8., 28.],\n",
       "       [30., 60., 29.,  0.,  0., 41.,  0.,  0.],\n",
       "       [25., 50., 64.,  0.,  0.,  9.,  0., 10.],\n",
       "       [29., 58., 57.,  1.,  0., 12.,  0., 10.],\n",
       "       [29., 58., 65.,  1.,  0., 14.,  0., 35.],\n",
       "       [30., 60., 47.,  0.,  0., 22.,  0., 21.],\n",
       "       [28., 54., 41.,  0.,  0., 36.,  0.,  0.],\n",
       "       [28., 54., 43.,  0.,  0., 10.,  8., 29.],\n",
       "       [29., 58., 61.,  0.,  0., 11.,  0., 38.],\n",
       "       [25., 50., 40.,  0.,  0.,  6., 19., 16.],\n",
       "       [36., 68., 33.,  1.,  0., 13.,  0., 14.],\n",
       "       [32., 62., 30.,  0.,  0., 38.,  0.,  0.],\n",
       "       [28., 54., 65.,  1.,  0., 39.,  0.,  0.],\n",
       "       [34., 65., 54.,  0.,  0., 38.,  0.,  0.],\n",
       "       [28., 54., 47.,  0.,  1.,  5., 18., 15.],\n",
       "       [33., 64., 31.,  0.,  0., 13.,  0., 39.],\n",
       "       [29., 52., 45.,  0.,  0., 12.,  0., 36.],\n",
       "       [30., 60., 49.,  0.,  0., 13.,  0.,  9.],\n",
       "       [32., 62., 34.,  0.,  0., 22.,  0., 24.],\n",
       "       [30., 60., 58.,  0.,  0., 10.,  7., 32.],\n",
       "       [28., 54., 46.,  0.,  0., 35.,  0.,  0.],\n",
       "       [31., 62., 49.,  1.,  0., 10., 13., 14.],\n",
       "       [25., 50., 39.,  0.,  1., 21.,  0., 19.],\n",
       "       [27., 54., 30.,  0.,  0., 13.,  0., 13.],\n",
       "       [25., 50., 26.,  0.,  0., 15., 14., 11.],\n",
       "       [26., 52., 35.,  0.,  1., 12., 10., 13.],\n",
       "       [30., 60., 26.,  1.,  0.,  8.,  9., 30.],\n",
       "       [32., 62., 34.,  0.,  0., 15.,  0., 37.],\n",
       "       [26., 52., 38.,  0.,  0., 37.,  0.,  0.],\n",
       "       [26., 52., 48.,  0.,  0., 23.,  0., 19.],\n",
       "       [37., 70., 32.,  1.,  0., 12.,  0., 39.],\n",
       "       [34., 65., 31.,  0.,  0., 23.,  0., 21.],\n",
       "       [31., 62., 48.,  0.,  0., 14., 15., 12.],\n",
       "       [28., 54., 35.,  1.,  0., 41.,  0.,  0.],\n",
       "       [28., 54., 37.,  1.,  0., 36.,  0.,  0.],\n",
       "       [28., 54., 38.,  0.,  0., 40.,  0.,  0.],\n",
       "       [27., 54., 28.,  0.,  0., 13.,  0., 40.],\n",
       "       [30., 60., 27.,  0.,  0., 12.,  0., 40.],\n",
       "       [34., 65., 57.,  1.,  0.,  9.,  0., 13.],\n",
       "       [29., 58., 37.,  0.,  0.,  8.,  0., 15.],\n",
       "       [34., 65., 63.,  0.,  0., 14.,  0., 38.],\n",
       "       [35., 67., 28.,  0.,  0.,  8.,  7., 31.],\n",
       "       [34., 65., 38.,  0.,  0., 39.,  0.,  0.],\n",
       "       [31., 62., 44.,  0.,  1., 21.,  0., 28.],\n",
       "       [26., 52., 31.,  0.,  0., 14.,  0., 41.],\n",
       "       [36., 68., 50.,  0.,  0., 12., 18., 19.],\n",
       "       [29., 58., 52.,  0.,  0., 13.,  0., 36.],\n",
       "       [26., 52., 36.,  0.,  0., 14.,  0., 13.],\n",
       "       [33., 64., 51.,  0.,  0.,  5.,  9., 29.],\n",
       "       [38., 72., 51.,  0.,  0., 39.,  0.,  0.],\n",
       "       [36., 60., 43.,  0.,  0., 15.,  0., 41.],\n",
       "       [30., 60., 38.,  0.,  0., 10.,  0., 14.],\n",
       "       [30., 60., 44.,  0.,  0., 10.,  0.,  9.],\n",
       "       [28., 54., 25.,  0.,  0.,  9., 10., 30.],\n",
       "       [34., 65., 48.,  0.,  0., 23.,  0., 19.],\n",
       "       [27., 53., 59.,  0.,  0., 10.,  0., 15.],\n",
       "       [26., 52., 44.,  0.,  0., 23.,  0., 20.],\n",
       "       [37., 70., 37.,  0.,  0., 12.,  0., 41.],\n",
       "       [30., 60., 40.,  0.,  0., 41.,  0.,  0.],\n",
       "       [26., 52., 32.,  1.,  0., 12.,  0.,  8.],\n",
       "       [29., 58., 34.,  0.,  0., 15.,  0., 37.],\n",
       "       [36., 68., 62.,  0.,  0., 15.,  0., 40.],\n",
       "       [25., 50., 56.,  0.,  0., 11., 13., 15.],\n",
       "       [25., 50., 65.,  0.,  0., 36.,  0.,  0.],\n",
       "       [26., 52., 39.,  0.,  0., 21.,  0., 23.],\n",
       "       [27., 53., 30.,  1.,  0., 35.,  0.,  0.],\n",
       "       [30., 60., 61.,  0.,  0.,  8., 10., 31.],\n",
       "       [34., 65., 53.,  0.,  0., 12., 14., 12.],\n",
       "       [26., 52., 59.,  0.,  0., 11.,  0.,  9.],\n",
       "       [29., 58., 33.,  1.,  0.,  9.,  7., 30.],\n",
       "       [30., 60., 27.,  0.,  0.,  4., 17., 17.],\n",
       "       [29., 58., 55.,  0.,  0.,  8.,  8., 33.],\n",
       "       [27., 53., 35.,  1.,  0., 37.,  0.,  0.],\n",
       "       [29., 58., 43.,  0.,  0., 24.,  0., 18.],\n",
       "       [35., 67., 42.,  0.,  1., 10.,  0., 35.]])"
      ]
     },
     "execution_count": 30,
     "metadata": {},
     "output_type": "execute_result"
    }
   ],
   "source": [
    "X_train"
   ]
  },
  {
   "cell_type": "code",
   "execution_count": 31,
   "id": "08139c80",
   "metadata": {
    "papermill": {
     "duration": 0.023913,
     "end_time": "2025-01-24T16:01:58.874345",
     "exception": false,
     "start_time": "2025-01-24T16:01:58.850432",
     "status": "completed"
    },
    "tags": []
   },
   "outputs": [
    {
     "data": {
      "text/plain": [
       "array([[30., 60., 63.,  0.,  0.,  9.,  9., 29.],\n",
       "       [29., 58., 30.,  0.,  0., 13., 17., 16.],\n",
       "       [34., 65., 62.,  1.,  0.,  7.,  9., 30.],\n",
       "       [27., 53., 43.,  1.,  0., 23.,  0., 24.],\n",
       "       [29., 58., 42.,  0.,  0.,  9., 10., 22.],\n",
       "       [36., 68., 41.,  0.,  0., 41.,  0.,  0.],\n",
       "       [33., 64., 34.,  0.,  0., 38.,  0.,  0.],\n",
       "       [27., 53., 34.,  1.,  0., 42.,  0.,  0.],\n",
       "       [31., 62., 63.,  0.,  0., 11., 12., 15.],\n",
       "       [25., 50., 32.,  0.,  0., 24.,  0., 19.],\n",
       "       [30., 60., 47.,  0.,  1., 12.,  0., 42.],\n",
       "       [34., 65., 45.,  0.,  0.,  6., 19., 21.],\n",
       "       [26., 52., 36.,  0.,  0.,  7., 16., 20.],\n",
       "       [32., 62., 41.,  0.,  0., 24.,  0., 22.],\n",
       "       [33., 64., 50.,  0.,  0., 41.,  0.,  0.],\n",
       "       [29., 58., 40.,  0.,  0., 24.,  0., 23.],\n",
       "       [35., 68., 33.,  0.,  0., 11.,  0., 37.],\n",
       "       [33., 64., 39.,  0.,  0., 13.,  0., 10.],\n",
       "       [36., 68., 38.,  0.,  1.,  7.,  9., 30.],\n",
       "       [30., 60., 42.,  0.,  0., 21.,  0., 18.]])"
      ]
     },
     "execution_count": 31,
     "metadata": {},
     "output_type": "execute_result"
    }
   ],
   "source": [
    "X_test"
   ]
  },
  {
   "cell_type": "code",
   "execution_count": 32,
   "id": "47c7ed31",
   "metadata": {
    "papermill": {
     "duration": 4.706784,
     "end_time": "2025-01-24T16:02:03.593246",
     "exception": false,
     "start_time": "2025-01-24T16:01:58.886462",
     "status": "completed"
    },
    "tags": []
   },
   "outputs": [],
   "source": [
    "from sklearn.linear_model import LogisticRegression\n",
    "from sklearn.naive_bayes import GaussianNB\n",
    "from sklearn.svm import SVC\n",
    "from sklearn.neighbors import KNeighborsClassifier\n",
    "from sklearn.tree import DecisionTreeClassifier, ExtraTreeClassifier\n",
    "from sklearn.ensemble import RandomForestClassifier, BaggingClassifier, GradientBoostingClassifier, AdaBoostClassifier\n",
    "from sklearn.metrics import accuracy_score\n",
    "from catboost import CatBoostClassifier\n",
    "from lightgbm import LGBMClassifier"
   ]
  },
  {
   "cell_type": "code",
   "execution_count": 33,
   "id": "1a23a154",
   "metadata": {
    "papermill": {
     "duration": 0.023442,
     "end_time": "2025-01-24T16:02:03.628845",
     "exception": false,
     "start_time": "2025-01-24T16:02:03.605403",
     "status": "completed"
    },
    "tags": []
   },
   "outputs": [],
   "source": [
    "models = {\n",
    "    'LogisticRegression': LogisticRegression(solver='liblinear'),\n",
    "    'GaussianNB': GaussianNB(),\n",
    "    'SVC': SVC(probability=True),\n",
    "    'KNeighborsClassifier': KNeighborsClassifier(),\n",
    "    'DecisionTreeClassifier': DecisionTreeClassifier(),\n",
    "    'ExtraTreeClassifier': ExtraTreeClassifier(),\n",
    "    'RandomForestClassifier': RandomForestClassifier(),\n",
    "    'BaggingClassifier': BaggingClassifier(),\n",
    "    'GradientBoostingClassifier': GradientBoostingClassifier(),\n",
    "    'AdaBoostClassifier': AdaBoostClassifier(),\n",
    "    'CatBoostClassifier': CatBoostClassifier(verbose=0),\n",
    "    'LGBMClassifier': LGBMClassifier(verbose=-1) \n",
    "}"
   ]
  },
  {
   "cell_type": "code",
   "execution_count": 34,
   "id": "3af48df2",
   "metadata": {
    "papermill": {
     "duration": 2.142046,
     "end_time": "2025-01-24T16:02:05.783353",
     "exception": false,
     "start_time": "2025-01-24T16:02:03.641307",
     "status": "completed"
    },
    "tags": []
   },
   "outputs": [
    {
     "name": "stdout",
     "output_type": "stream",
     "text": [
      "\n",
      "LogisticRegression model with accuracy: 0.8000\n",
      "\n",
      "GaussianNB model with accuracy: 0.9500\n",
      "\n",
      "SVC model with accuracy: 0.7000\n",
      "\n",
      "KNeighborsClassifier model with accuracy: 0.7500\n",
      "\n",
      "DecisionTreeClassifier model with accuracy: 0.9000\n",
      "\n",
      "ExtraTreeClassifier model with accuracy: 0.7000\n",
      "\n",
      "RandomForestClassifier model with accuracy: 1.0000\n",
      "\n",
      "BaggingClassifier model with accuracy: 0.9500\n",
      "\n",
      "GradientBoostingClassifier model with accuracy: 0.9000\n",
      "\n",
      "AdaBoostClassifier model with accuracy: 0.4500\n",
      "\n",
      "CatBoostClassifier model with accuracy: 0.9500\n",
      "\n",
      "LGBMClassifier model with accuracy: 1.0000\n"
     ]
    }
   ],
   "source": [
    "from sklearn.preprocessing import StandardScaler\n",
    "from sklearn.metrics import accuracy_score\n",
    "\n",
    "# Initialize StandardScaler\n",
    "sc = StandardScaler()\n",
    "\n",
    "# Scale the training and testing datasets\n",
    "X_train_scaled = sc.fit_transform(X_train)\n",
    "X_test_scaled = sc.transform(X_test)\n",
    "\n",
    "# Iterate through the models, fit, predict, and evaluate\n",
    "for name, model in models.items():\n",
    "    model.fit(X_train_scaled, y_train)\n",
    "    y_pred = model.predict(X_test_scaled)\n",
    "    score = accuracy_score(y_test, y_pred)\n",
    "    print(f\"\\n{name} model with accuracy: {score:.4f}\")"
   ]
  },
  {
   "cell_type": "code",
   "execution_count": 35,
   "id": "967f0b08",
   "metadata": {
    "papermill": {
     "duration": 7.076009,
     "end_time": "2025-01-24T16:02:12.872590",
     "exception": false,
     "start_time": "2025-01-24T16:02:05.796581",
     "status": "completed"
    },
    "tags": []
   },
   "outputs": [
    {
     "name": "stdout",
     "output_type": "stream",
     "text": [
      "\n",
      "LogisticRegression model:\n",
      "Confusion Matrix:\n",
      "[[1 2 0 0 0 0 0]\n",
      " [1 3 0 0 0 0 0]\n",
      " [0 0 1 0 0 0 0]\n",
      " [0 0 0 1 0 0 0]\n",
      " [0 0 0 0 4 1 0]\n",
      " [0 0 0 0 0 2 0]\n",
      " [0 0 0 0 0 0 4]]\n"
     ]
    },
    {
     "data": {
      "image/png": "[encoded data removed]",
      "text/plain": [
       "<Figure size 600x400 with 2 Axes>"
      ]
     },
     "metadata": {},
     "output_type": "display_data"
    },
    {
     "name": "stdout",
     "output_type": "stream",
     "text": [
      "\n",
      "GaussianNB model:\n",
      "Confusion Matrix:\n",
      "[[3 0 0 0 0 0 0]\n",
      " [0 3 1 0 0 0 0]\n",
      " [0 0 1 0 0 0 0]\n",
      " [0 0 0 1 0 0 0]\n",
      " [0 0 0 0 5 0 0]\n",
      " [0 0 0 0 0 2 0]\n",
      " [0 0 0 0 0 0 4]]\n"
     ]
    },
    {
     "data": {
      "image/png": "[encoded data removed]",
      "text/plain": [
       "<Figure size 600x400 with 2 Axes>"
      ]
     },
     "metadata": {},
     "output_type": "display_data"
    },
    {
     "name": "stdout",
     "output_type": "stream",
     "text": [
      "\n",
      "SVC model:\n",
      "Confusion Matrix:\n",
      "[[0 0 3 0 0 0 0]\n",
      " [0 2 0 0 0 2 0]\n",
      " [0 0 1 0 0 0 0]\n",
      " [0 0 0 1 0 0 0]\n",
      " [0 0 0 0 5 0 0]\n",
      " [0 0 0 0 1 1 0]\n",
      " [0 0 0 0 0 0 4]]\n"
     ]
    },
    {
     "data": {
      "image/png": "[encoded data removed]",
      "text/plain": [
       "<Figure size 600x400 with 2 Axes>"
      ]
     },
     "metadata": {},
     "output_type": "display_data"
    },
    {
     "name": "stdout",
     "output_type": "stream",
     "text": [
      "\n",
      "KNeighborsClassifier model:\n",
      "Confusion Matrix:\n",
      "[[2 1 0 0 0 0 0]\n",
      " [1 3 0 0 0 0 0]\n",
      " [0 1 0 0 0 0 0]\n",
      " [0 0 0 1 0 0 0]\n",
      " [0 0 0 1 4 0 0]\n",
      " [0 0 0 0 1 1 0]\n",
      " [0 0 0 0 0 0 4]]\n"
     ]
    },
    {
     "data": {
      "image/png": "[encoded data removed]",
      "text/plain": [
       "<Figure size 600x400 with 2 Axes>"
      ]
     },
     "metadata": {},
     "output_type": "display_data"
    },
    {
     "name": "stdout",
     "output_type": "stream",
     "text": [
      "\n",
      "DecisionTreeClassifier model:\n",
      "Confusion Matrix:\n",
      "[[2 0 1 0 0 0 0]\n",
      " [0 3 1 0 0 0 0]\n",
      " [0 0 1 0 0 0 0]\n",
      " [0 0 0 1 0 0 0]\n",
      " [0 0 0 0 5 0 0]\n",
      " [0 0 0 0 0 2 0]\n",
      " [0 0 0 0 0 0 4]]\n"
     ]
    },
    {
     "data": {
      "image/png": "[encoded data removed]",
      "text/plain": [
       "<Figure size 600x400 with 2 Axes>"
      ]
     },
     "metadata": {},
     "output_type": "display_data"
    },
    {
     "name": "stdout",
     "output_type": "stream",
     "text": [
      "\n",
      "ExtraTreeClassifier model:\n",
      "Confusion Matrix:\n",
      "[[0 0 1 2 0 0 0]\n",
      " [0 3 0 0 1 0 0]\n",
      " [0 0 0 1 0 0 0]\n",
      " [0 0 0 1 0 0 0]\n",
      " [0 0 0 0 4 0 1]\n",
      " [0 0 0 0 0 2 0]\n",
      " [0 0 0 0 0 0 4]]\n"
     ]
    },
    {
     "data": {
      "image/png": "[encoded data removed]",
      "text/plain": [
       "<Figure size 600x400 with 2 Axes>"
      ]
     },
     "metadata": {},
     "output_type": "display_data"
    },
    {
     "name": "stdout",
     "output_type": "stream",
     "text": [
      "\n",
      "RandomForestClassifier model:\n",
      "Confusion Matrix:\n",
      "[[3 0 0 0 0 0 0]\n",
      " [0 4 0 0 0 0 0]\n",
      " [0 0 1 0 0 0 0]\n",
      " [0 0 0 1 0 0 0]\n",
      " [0 0 0 0 5 0 0]\n",
      " [0 0 0 0 0 2 0]\n",
      " [0 0 0 0 0 0 4]]\n"
     ]
    },
    {
     "data": {
      "image/png": "[encoded data removed]",
      "text/plain": [
       "<Figure size 600x400 with 2 Axes>"
      ]
     },
     "metadata": {},
     "output_type": "display_data"
    },
    {
     "name": "stdout",
     "output_type": "stream",
     "text": [
      "\n",
      "BaggingClassifier model:\n",
      "Confusion Matrix:\n",
      "[[3 0 0 0 0 0 0]\n",
      " [1 3 0 0 0 0 0]\n",
      " [0 0 1 0 0 0 0]\n",
      " [0 0 0 1 0 0 0]\n",
      " [0 0 0 0 5 0 0]\n",
      " [0 0 0 0 0 2 0]\n",
      " [0 0 0 0 0 0 4]]\n"
     ]
    },
    {
     "data": {
      "image/png": "[encoded data removed]",
      "text/plain": [
       "<Figure size 600x400 with 2 Axes>"
      ]
     },
     "metadata": {},
     "output_type": "display_data"
    },
    {
     "name": "stdout",
     "output_type": "stream",
     "text": [
      "\n",
      "GradientBoostingClassifier model:\n",
      "Confusion Matrix:\n",
      "[[2 0 0 0 0 0 1]\n",
      " [0 3 0 0 0 0 1]\n",
      " [0 0 1 0 0 0 0]\n",
      " [0 0 0 1 0 0 0]\n",
      " [0 0 0 0 5 0 0]\n",
      " [0 0 0 0 0 2 0]\n",
      " [0 0 0 0 0 0 4]]\n"
     ]
    },
    {
     "data": {
      "image/png": "[encoded data removed]",
      "text/plain": [
       "<Figure size 600x400 with 2 Axes>"
      ]
     },
     "metadata": {},
     "output_type": "display_data"
    },
    {
     "name": "stdout",
     "output_type": "stream",
     "text": [
      "\n",
      "AdaBoostClassifier model:\n",
      "Confusion Matrix:\n",
      "[[2 0 0 1 0 0 0]\n",
      " [0 0 0 4 0 0 0]\n",
      " [0 0 0 1 0 0 0]\n",
      " [0 0 0 1 0 0 0]\n",
      " [0 0 0 5 0 0 0]\n",
      " [0 0 0 0 0 2 0]\n",
      " [0 0 0 0 0 0 4]]\n"
     ]
    },
    {
     "data": {
      "image/png": "[encoded data removed]",
      "text/plain": [
       "<Figure size 600x400 with 2 Axes>"
      ]
     },
     "metadata": {},
     "output_type": "display_data"
    },
    {
     "name": "stdout",
     "output_type": "stream",
     "text": [
      "\n",
      "CatBoostClassifier model:\n",
      "Confusion Matrix:\n",
      "[[2 0 1 0 0 0 0]\n",
      " [0 4 0 0 0 0 0]\n",
      " [0 0 1 0 0 0 0]\n",
      " [0 0 0 1 0 0 0]\n",
      " [0 0 0 0 5 0 0]\n",
      " [0 0 0 0 0 2 0]\n",
      " [0 0 0 0 0 0 4]]\n"
     ]
    },
    {
     "data": {
      "image/png": "[encoded data removed]",
      "text/plain": [
       "<Figure size 600x400 with 2 Axes>"
      ]
     },
     "metadata": {},
     "output_type": "display_data"
    },
    {
     "name": "stdout",
     "output_type": "stream",
     "text": [
      "\n",
      "LGBMClassifier model:\n",
      "Confusion Matrix:\n",
      "[[3 0 0 0 0 0 0]\n",
      " [0 4 0 0 0 0 0]\n",
      " [0 0 1 0 0 0 0]\n",
      " [0 0 0 1 0 0 0]\n",
      " [0 0 0 0 5 0 0]\n",
      " [0 0 0 0 0 2 0]\n",
      " [0 0 0 0 0 0 4]]\n"
     ]
    },
    {
     "data": {
      "image/png": "[encoded data removed]",
      "text/plain": [
       "<Figure size 600x400 with 2 Axes>"
      ]
     },
     "metadata": {},
     "output_type": "display_data"
    }
   ],
   "source": [
    "import matplotlib.pyplot as plt\n",
    "import seaborn as sns\n",
    "from sklearn.metrics import confusion_matrix\n",
    "\n",
    "# Initialize StandardScaler\n",
    "scaler = StandardScaler()\n",
    "\n",
    "# Scale the training and testing datasets\n",
    "X_train_scaled = scaler.fit_transform(X_train)\n",
    "X_test_scaled = scaler.transform(X_test)\n",
    "\n",
    "# Function to plot confusion matrix\n",
    "def plot_confusion_matrix(cm, model_name):\n",
    "    plt.figure(figsize=(6, 4))\n",
    "    sns.heatmap(cm, annot=True, fmt='d', cmap='Blues', xticklabels=True, yticklabels=True)\n",
    "    plt.title(f\"Confusion Matrix: {model_name}\")\n",
    "    plt.xlabel(\"Predicted Labels\")\n",
    "    plt.ylabel(\"True Labels\")\n",
    "    plt.show()\n",
    "\n",
    "# Iterate through the models, fit, predict, and evaluate\n",
    "for name, model in models.items():\n",
    "    model.fit(X_train_scaled, y_train)\n",
    "    y_pred = model.predict(X_test_scaled)\n",
    "    cm = confusion_matrix(y_test, y_pred)\n",
    "    print(f\"\\n{name} model:\")\n",
    "    print(f\"Confusion Matrix:\\n{cm}\")\n",
    "    plot_confusion_matrix(cm, name)  # Visualize the confusion matrix"
   ]
  },
  {
   "cell_type": "markdown",
   "id": "3022d87a",
   "metadata": {
    "papermill": {
     "duration": 0.019537,
     "end_time": "2025-01-24T16:02:12.913342",
     "exception": false,
     "start_time": "2025-01-24T16:02:12.893805",
     "status": "completed"
    },
    "tags": []
   },
   "source": [
    "# Ensemble Types:"
   ]
  },
  {
   "cell_type": "markdown",
   "id": "4a6fa713",
   "metadata": {
    "papermill": {
     "duration": 0.021684,
     "end_time": "2025-01-24T16:02:12.956973",
     "exception": false,
     "start_time": "2025-01-24T16:02:12.935289",
     "status": "completed"
    },
    "tags": []
   },
   "source": [
    "## 1) Voting Classifier (Soft Voting):"
   ]
  },
  {
   "cell_type": "code",
   "execution_count": 36,
   "id": "c0ce23c2",
   "metadata": {
    "papermill": {
     "duration": 2.263568,
     "end_time": "2025-01-24T16:02:15.240793",
     "exception": false,
     "start_time": "2025-01-24T16:02:12.977225",
     "status": "completed"
    },
    "tags": []
   },
   "outputs": [
    {
     "name": "stdout",
     "output_type": "stream",
     "text": [
      "Ensemble Voting Classifier Accuracy: 1.0000\n"
     ]
    }
   ],
   "source": [
    "from sklearn.ensemble import VotingClassifier\n",
    "\n",
    "# Create a list of all models\n",
    "ensemble_models = [(name, model) for name, model in models.items()]\n",
    "\n",
    "# Initialize the Voting Classifier\n",
    "voting_ensemble = VotingClassifier(estimators=ensemble_models, voting='soft')  # Use 'soft' for probabilities if supported\n",
    "\n",
    "# Fit the ensemble model\n",
    "voting_ensemble.fit(X_train_scaled, y_train)\n",
    "\n",
    "# Evaluate the model\n",
    "y_pred_ensemble = voting_ensemble.predict(X_test_scaled)\n",
    "accuracy_ensemble = accuracy_score(y_test, y_pred_ensemble)\n",
    "print(f\"Ensemble Voting Classifier Accuracy: {accuracy_ensemble:.4f}\")"
   ]
  },
  {
   "cell_type": "markdown",
   "id": "50d2b5ff",
   "metadata": {
    "papermill": {
     "duration": 0.019467,
     "end_time": "2025-01-24T16:02:15.280489",
     "exception": false,
     "start_time": "2025-01-24T16:02:15.261022",
     "status": "completed"
    },
    "tags": []
   },
   "source": [
    "## 2) Stacking Classifier:"
   ]
  },
  {
   "cell_type": "code",
   "execution_count": 37,
   "id": "a76e902b",
   "metadata": {
    "papermill": {
     "duration": 7.301928,
     "end_time": "2025-01-24T16:02:22.603551",
     "exception": false,
     "start_time": "2025-01-24T16:02:15.301623",
     "status": "completed"
    },
    "tags": []
   },
   "outputs": [
    {
     "name": "stdout",
     "output_type": "stream",
     "text": [
      "Ensemble Stacking Classifier Accuracy: 0.9500\n"
     ]
    }
   ],
   "source": [
    "from sklearn.ensemble import StackingClassifier\n",
    "from sklearn.model_selection import StratifiedKFold\n",
    "\n",
    "# Create a list of all models\n",
    "ensemble_models = [(name, model) for name, model in models.items()]\n",
    "\n",
    "# Meta-model\n",
    "meta_model1 = RandomForestClassifier()\n",
    "\n",
    "# Use StratifiedKFold to ensure balanced splits\n",
    "stratified_kfold = StratifiedKFold(n_splits=3)\n",
    "\n",
    "# Create Stacking Classifier with stratified cross-validation\n",
    "stacking_ensemble = StackingClassifier(\n",
    "    estimators=ensemble_models,\n",
    "    final_estimator=meta_model1,\n",
    "    cv=stratified_kfold  # Use stratified cross-validation\n",
    ")\n",
    "\n",
    "# Fit the ensemble model\n",
    "stacking_ensemble.fit(X_train_scaled, y_train)\n",
    "\n",
    "# Evaluate the model\n",
    "y_pred_stack = stacking_ensemble.predict(X_test_scaled)\n",
    "accuracy_stack = accuracy_score(y_test, y_pred_stack)\n",
    "print(f\"Ensemble Stacking Classifier Accuracy: {accuracy_stack:.4f}\")"
   ]
  },
  {
   "cell_type": "markdown",
   "id": "233d1088",
   "metadata": {
    "papermill": {
     "duration": 0.019401,
     "end_time": "2025-01-24T16:02:22.643878",
     "exception": false,
     "start_time": "2025-01-24T16:02:22.624477",
     "status": "completed"
    },
    "tags": []
   },
   "source": [
    "## 3) Weighted Voting (Customized Ensemble):"
   ]
  },
  {
   "cell_type": "code",
   "execution_count": 38,
   "id": "c8b7f5ec",
   "metadata": {
    "papermill": {
     "duration": 1.94911,
     "end_time": "2025-01-24T16:02:24.613697",
     "exception": false,
     "start_time": "2025-01-24T16:02:22.664587",
     "status": "completed"
    },
    "tags": []
   },
   "outputs": [
    {
     "name": "stdout",
     "output_type": "stream",
     "text": [
      "Weighted Voting Ensemble Accuracy: 1.0000\n"
     ]
    }
   ],
   "source": [
    "voting_ensemble_weighted = VotingClassifier(\n",
    "    estimators=ensemble_models,\n",
    "    voting='soft',  # Supports probabilities\n",
    "    weights=[1, 1, 1, 1, 1, 1, 2, 2, 2, 0.5, 2, 2]  # Assign weights based on model performance\n",
    ")\n",
    "\n",
    "voting_ensemble_weighted.fit(X_train_scaled, y_train)\n",
    "\n",
    "y_pred_weighted = voting_ensemble_weighted.predict(X_test_scaled)\n",
    "accuracy_weighted = accuracy_score(y_test, y_pred_weighted)\n",
    "print(f\"Weighted Voting Ensemble Accuracy: {accuracy_weighted:.4f}\")"
   ]
  },
  {
   "cell_type": "markdown",
   "id": "7b51c3ec",
   "metadata": {
    "papermill": {
     "duration": 0.019348,
     "end_time": "2025-01-24T16:02:24.653079",
     "exception": false,
     "start_time": "2025-01-24T16:02:24.633731",
     "status": "completed"
    },
    "tags": []
   },
   "source": [
    "## 4) Custom Blending (Manual Ensemble):"
   ]
  },
  {
   "cell_type": "code",
   "execution_count": 39,
   "id": "281e9119",
   "metadata": {
    "papermill": {
     "duration": 2.172568,
     "end_time": "2025-01-24T16:02:26.845389",
     "exception": false,
     "start_time": "2025-01-24T16:02:24.672821",
     "status": "completed"
    },
    "tags": []
   },
   "outputs": [
    {
     "name": "stdout",
     "output_type": "stream",
     "text": [
      "Custom Blended Ensemble Accuracy: 1.0000\n"
     ]
    }
   ],
   "source": [
    "# Fit and predict for each base model\n",
    "base_predictions = []\n",
    "for name, model in models.items():\n",
    "    model.fit(X_train, y_train)  # Fit the model\n",
    "    if hasattr(model, 'predict_proba'):  # Check if the model can predict probabilities\n",
    "        prob = model.predict_proba(X_test)  # Get probabilities for blending\n",
    "        base_predictions.append(prob)\n",
    "    else:\n",
    "        print(f\"{name} does not support probability prediction.\")\n",
    "        \n",
    "# Stack all the model probabilities as features for the blending classifier\n",
    "stacked_predictions = np.hstack(base_predictions)\n",
    "\n",
    "# Fit the meta-model (blending model)\n",
    "meta_model1 = RandomForestClassifier()\n",
    "meta_model1.fit(stacked_predictions, y_test)  # Use test labels for meta-model fitting\n",
    "\n",
    "# Predict using the custom blended model\n",
    "blended_pred = meta_model1.predict(stacked_predictions)\n",
    "\n",
    "# Calculate accuracy\n",
    "blended_accuracy = accuracy_score(y_test, blended_pred)\n",
    "\n",
    "print(f\"Custom Blended Ensemble Accuracy: {blended_accuracy:.4f}\")"
   ]
  },
  {
   "cell_type": "code",
   "execution_count": 40,
   "id": "6a794b11",
   "metadata": {
    "papermill": {
     "duration": 4.026339,
     "end_time": "2025-01-24T16:02:30.894658",
     "exception": false,
     "start_time": "2025-01-24T16:02:26.868319",
     "status": "completed"
    },
    "tags": []
   },
   "outputs": [
    {
     "name": "stdout",
     "output_type": "stream",
     "text": [
      "Cross-validated Accuracy: 0.8500 ± 0.3571\n",
      "\n",
      "Classification Report:\n",
      "              precision    recall  f1-score   support\n",
      "\n",
      "    10-26-26       1.00      1.00      1.00         3\n",
      "    14-35-14       1.00      1.00      1.00         4\n",
      "    17-17-17       1.00      1.00      1.00         1\n",
      "       20-20       1.00      1.00      1.00         1\n",
      "       28-28       1.00      1.00      1.00         5\n",
      "         DAP       1.00      1.00      1.00         2\n",
      "        Urea       1.00      1.00      1.00         4\n",
      "\n",
      "    accuracy                           1.00        20\n",
      "   macro avg       1.00      1.00      1.00        20\n",
      "weighted avg       1.00      1.00      1.00        20\n",
      "\n",
      "\n",
      "Confusion Matrix:\n",
      "\n",
      "[[3 0 0 0 0 0 0]\n",
      " [0 4 0 0 0 0 0]\n",
      " [0 0 1 0 0 0 0]\n",
      " [0 0 0 1 0 0 0]\n",
      " [0 0 0 0 5 0 0]\n",
      " [0 0 0 0 0 2 0]\n",
      " [0 0 0 0 0 0 4]]\n"
     ]
    },
    {
     "data": {
      "image/png": "[encoded data removed]",
      "text/plain": [
       "<Figure size 1500x1500 with 2 Axes>"
      ]
     },
     "metadata": {},
     "output_type": "display_data"
    }
   ],
   "source": [
    "import seaborn as sns\n",
    "import matplotlib.pyplot as plt\n",
    "from sklearn.model_selection import LeaveOneOut\n",
    "from sklearn.model_selection import cross_val_score\n",
    "from sklearn.metrics import confusion_matrix, classification_report, roc_auc_score\n",
    "\n",
    "# Implement Leave-One-Out Cross-Validation (LOO-CV)\n",
    "loo = LeaveOneOut()\n",
    "\n",
    "# Cross-validation to estimate model performance using LOO-CV\n",
    "cv_scores = cross_val_score(meta_model1, stacked_predictions, y_test, cv=loo)\n",
    "print(f\"Cross-validated Accuracy: {np.mean(cv_scores):.4f} ± {np.std(cv_scores):.4f}\")\n",
    "\n",
    "# Evaluate additional metrics like precision, recall, F1-score\n",
    "print(\"\\nClassification Report:\")\n",
    "print(classification_report(y_test, blended_pred))\n",
    "\n",
    "# Confusion Matrix\n",
    "print(\"\\nConfusion Matrix:\\n\")\n",
    "cm = confusion_matrix(y_test, blended_pred)\n",
    "print(confusion_matrix(y_test, blended_pred))\n",
    "\n",
    "plt.figure(figsize=(15,15))\n",
    "sns.heatmap(cm, annot=True, fmt=\".0f\", linewidths=.5, square = True, cmap = 'Blues');\n",
    "plt.ylabel('Actual label');\n",
    "plt.xlabel('Predicted label');\n",
    "all_sample_title = 'Confusion Matrix - score:'+str(accuracy_score(y_test, blended_pred))\n",
    "plt.title(all_sample_title, size = 15);\n",
    "plt.show()\n",
    "\n",
    "# ROC AUC Score (if it's a binary classification)\n",
    "if len(np.unique(y_test)) == 2:\n",
    "    roc_auc = roc_auc_score(y_test, meta_model1.predict_proba(stacked_predictions)[:, 1])\n",
    "    print(f\"\\nROC AUC Score: {roc_auc:.4f}\")"
   ]
  },
  {
   "cell_type": "code",
   "execution_count": 41,
   "id": "c0bdc9c1",
   "metadata": {
    "papermill": {
     "duration": 0.401761,
     "end_time": "2025-01-24T16:02:31.318778",
     "exception": false,
     "start_time": "2025-01-24T16:02:30.917017",
     "status": "completed"
    },
    "tags": []
   },
   "outputs": [
    {
     "data": {
      "text/plain": [
       "['Fertilizer_Recommendation_model.pkl']"
      ]
     },
     "execution_count": 41,
     "metadata": {},
     "output_type": "execute_result"
    }
   ],
   "source": [
    "import joblib\n",
    "\n",
    "# Save the ensemble (meta-model and base models) together in one object\n",
    "ensemble_model = {\n",
    "    'base_models1': models,\n",
    "    'meta_model1': meta_model1\n",
    "}\n",
    "\n",
    "joblib.dump(ensemble_model, \"Fertilizer_Recommendation_model.pkl\")"
   ]
  }
 ],
 "metadata": {
  "kaggle": {
   "accelerator": "none",
   "dataSources": [
    {
     "datasetId": 3389527,
     "sourceId": 5901272,
     "sourceType": "datasetVersion"
    }
   ],
   "dockerImageVersionId": 30839,
   "isGpuEnabled": false,
   "isInternetEnabled": true,
   "language": "python",
   "sourceType": "notebook"
  },
  "kernelspec": {
   "display_name": "GPU(sam)",
   "language": "python",
   "name": "sam"
  },
  "language_info": {
   "codemirror_mode": {
    "name": "ipython",
    "version": 3
   },
   "file_extension": ".py",
   "mimetype": "text/x-python",
   "name": "python",
   "nbconvert_exporter": "python",
   "pygments_lexer": "ipython3",
   "version": "3.8.20"
  },
  "papermill": {
   "default_parameters": {},
   "duration": 41.195472,
   "end_time": "2025-01-24T16:02:32.463611",
   "environment_variables": {},
   "exception": null,
   "input_path": "__notebook__.ipynb",
   "output_path": "__notebook__.ipynb",
   "parameters": {},
   "start_time": "2025-01-24T16:01:51.268139",
   "version": "2.6.0"
  }
 },
 "nbformat": 4,
 "nbformat_minor": 5
}
